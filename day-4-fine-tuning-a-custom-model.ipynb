{
 "cells": [
  {
   "cell_type": "markdown",
   "id": "68151c4e",
   "metadata": {
    "id": "b6e13eef3f5d",
    "papermill": {
     "duration": 0.0089,
     "end_time": "2024-11-21T21:45:49.445011",
     "exception": false,
     "start_time": "2024-11-21T21:45:49.436111",
     "status": "completed"
    },
    "tags": []
   },
   "source": [
    "##### Copyright 2024 Google LLC."
   ]
  },
  {
   "cell_type": "code",
   "execution_count": 1,
   "id": "b144ff67",
   "metadata": {
    "cellView": "form",
    "execution": {
     "iopub.execute_input": "2024-11-21T21:45:49.464109Z",
     "iopub.status.busy": "2024-11-21T21:45:49.463710Z",
     "iopub.status.idle": "2024-11-21T21:45:49.468859Z",
     "shell.execute_reply": "2024-11-21T21:45:49.468077Z"
    },
    "id": "d6597b11df14",
    "jupyter": {
     "source_hidden": true
    },
    "papermill": {
     "duration": 0.017394,
     "end_time": "2024-11-21T21:45:49.470835",
     "exception": false,
     "start_time": "2024-11-21T21:45:49.453441",
     "status": "completed"
    },
    "tags": []
   },
   "outputs": [],
   "source": [
    "# @title Licensed under the Apache License, Version 2.0 (the \"License\");\n",
    "# you may not use this file except in compliance with the License.\n",
    "# You may obtain a copy of the License at\n",
    "#\n",
    "# https://www.apache.org/licenses/LICENSE-2.0\n",
    "#\n",
    "# Unless required by applicable law or agreed to in writing, software\n",
    "# distributed under the License is distributed on an \"AS IS\" BASIS,\n",
    "# WITHOUT WARRANTIES OR CONDITIONS OF ANY KIND, either express or implied.\n",
    "# See the License for the specific language governing permissions and\n",
    "# limitations under the License."
   ]
  },
  {
   "cell_type": "markdown",
   "id": "e66acbef",
   "metadata": {
    "id": "4KDIFPAL2EnL",
    "papermill": {
     "duration": 0.007615,
     "end_time": "2024-11-21T21:45:49.487498",
     "exception": false,
     "start_time": "2024-11-21T21:45:49.479883",
     "status": "completed"
    },
    "tags": []
   },
   "source": [
    "# Day 4 - Fine tuning a custom model\n",
    "\n",
    "Welcome back to the Kaggle 5-day Generative AI course!\n",
    "\n",
    "In this notebook you will use the Gemini API to fine-tune a custom, task-specific model. Fine-tuning can be used for a variety of tasks from classic NLP problems like entity extraction or summarisation, to creative tasks like stylised generation. You will fine-tune a model to classify the category a piece of text (a newsgroup post) into the category it belongs to (the newsgroup name).\n",
    "\n",
    "This codelab walks you tuning a model with the API. [AI Studio](https://aistudio.google.com/app/tune) also supports creating new tuned models directly in the web UI, allowing you to quickly create and monitor models using data from Google Sheets, Drive or your own files."
   ]
  },
  {
   "cell_type": "code",
   "execution_count": 2,
   "id": "e22c913c",
   "metadata": {
    "execution": {
     "iopub.execute_input": "2024-11-21T21:45:49.505232Z",
     "iopub.status.busy": "2024-11-21T21:45:49.504439Z",
     "iopub.status.idle": "2024-11-21T21:46:13.641322Z",
     "shell.execute_reply": "2024-11-21T21:46:13.640034Z"
    },
    "id": "9wafTyEH1_xF",
    "papermill": {
     "duration": 24.14839,
     "end_time": "2024-11-21T21:46:13.643811",
     "exception": false,
     "start_time": "2024-11-21T21:45:49.495421",
     "status": "completed"
    },
    "tags": []
   },
   "outputs": [
    {
     "name": "stdout",
     "output_type": "stream",
     "text": [
      "Note: you may need to restart the kernel to use updated packages.\n"
     ]
    }
   ],
   "source": [
    "%pip install -U -q 'google-generativeai>=0.8.3'"
   ]
  },
  {
   "cell_type": "markdown",
   "id": "11225d9c",
   "metadata": {
    "papermill": {
     "duration": 0.007691,
     "end_time": "2024-11-21T21:46:13.659922",
     "exception": false,
     "start_time": "2024-11-21T21:46:13.652231",
     "status": "completed"
    },
    "tags": []
   },
   "source": [
    "Note that you do not have to restart the kernel."
   ]
  },
  {
   "cell_type": "code",
   "execution_count": 3,
   "id": "525f5466",
   "metadata": {
    "execution": {
     "iopub.execute_input": "2024-11-21T21:46:13.678152Z",
     "iopub.status.busy": "2024-11-21T21:46:13.677172Z",
     "iopub.status.idle": "2024-11-21T21:46:14.629533Z",
     "shell.execute_reply": "2024-11-21T21:46:14.628670Z"
    },
    "id": "T0CBG9xL2PvT",
    "papermill": {
     "duration": 0.963945,
     "end_time": "2024-11-21T21:46:14.631774",
     "exception": false,
     "start_time": "2024-11-21T21:46:13.667829",
     "status": "completed"
    },
    "tags": []
   },
   "outputs": [],
   "source": [
    "import google.generativeai as genai"
   ]
  },
  {
   "cell_type": "markdown",
   "id": "504bf0d9",
   "metadata": {
    "id": "P4bYX2T72ScK",
    "papermill": {
     "duration": 0.007745,
     "end_time": "2024-11-21T21:46:14.647590",
     "exception": false,
     "start_time": "2024-11-21T21:46:14.639845",
     "status": "completed"
    },
    "tags": []
   },
   "source": [
    "### Set up your API key\n",
    "\n",
    "To run the following cell, your API key must be stored it in a [Kaggle secret](https://www.kaggle.com/discussions/product-feedback/114053) named `GOOGLE_API_KEY`.\n",
    "\n",
    "If you don't already have an API key, you can grab one from [AI Studio](https://aistudio.google.com/app/apikey). You can find [detailed instructions in the docs](https://ai.google.dev/gemini-api/docs/api-key).\n",
    "\n",
    "To make the key available through Kaggle secrets, choose `Secrets` from the `Add-ons` menu and follow the instructions to add your key or enable it for this notebook."
   ]
  },
  {
   "cell_type": "code",
   "execution_count": 4,
   "id": "276e231b",
   "metadata": {
    "execution": {
     "iopub.execute_input": "2024-11-21T21:46:14.665838Z",
     "iopub.status.busy": "2024-11-21T21:46:14.664603Z",
     "iopub.status.idle": "2024-11-21T21:46:14.785334Z",
     "shell.execute_reply": "2024-11-21T21:46:14.784501Z"
    },
    "id": "VuJPY3GK2SLZ",
    "papermill": {
     "duration": 0.13217,
     "end_time": "2024-11-21T21:46:14.787663",
     "exception": false,
     "start_time": "2024-11-21T21:46:14.655493",
     "status": "completed"
    },
    "tags": []
   },
   "outputs": [],
   "source": [
    "from kaggle_secrets import UserSecretsClient\n",
    "\n",
    "GOOGLE_API_KEY = UserSecretsClient().get_secret(\"GOOGLE_API_KEY\")\n",
    "genai.configure(api_key=GOOGLE_API_KEY)"
   ]
  },
  {
   "attachments": {
    "53e1d527-de81-497e-bfac-58df458e750b.png": {
     "image/png": "[encoded data removed]"
    }
   },
   "cell_type": "markdown",
   "id": "700d625f",
   "metadata": {
    "id": "25b2127c2052",
    "papermill": {
     "duration": 0.007662,
     "end_time": "2024-11-21T21:46:14.803411",
     "exception": false,
     "start_time": "2024-11-21T21:46:14.795749",
     "status": "completed"
    },
    "tags": []
   },
   "source": [
    "If you received an error response along the lines of `No user secrets exist for kernel id ...`, then you need to add your API key via `Add-ons`, `Secrets` **and** enable it.\n",
    "\n",
    "![Screenshot of the checkbox to enable GOOGLE_API_KEY secret](https://storage.googleapis.com/kaggle-media/Images/5gdai_sc_3.png)"
   ]
  },
  {
   "cell_type": "markdown",
   "id": "ed90a0bf",
   "metadata": {
    "id": "CqVA5QFO6n4z",
    "papermill": {
     "duration": 0.007508,
     "end_time": "2024-11-21T21:46:14.818706",
     "exception": false,
     "start_time": "2024-11-21T21:46:14.811198",
     "status": "completed"
    },
    "tags": []
   },
   "source": [
    "### Explore available models\n",
    "\n",
    "You will be using the [`TunedModel.create`](https://ai.google.dev/api/tuning#method:-tunedmodels.create) API method to start the fine-tuning job and create your custom model. Find a model that supports it through the [`models.list`](https://ai.google.dev/api/models#method:-models.list) endpoint. You can also find more information about tuning models in [the model tuning docs](https://ai.google.dev/gemini-api/docs/model-tuning/tutorial?lang=python)."
   ]
  },
  {
   "cell_type": "code",
   "execution_count": 5,
   "id": "7367d0fd",
   "metadata": {
    "execution": {
     "iopub.execute_input": "2024-11-21T21:46:14.836323Z",
     "iopub.status.busy": "2024-11-21T21:46:14.835371Z",
     "iopub.status.idle": "2024-11-21T21:46:14.954725Z",
     "shell.execute_reply": "2024-11-21T21:46:14.953582Z"
    },
    "id": "coEacWAB6o0G",
    "papermill": {
     "duration": 0.130775,
     "end_time": "2024-11-21T21:46:14.957137",
     "exception": false,
     "start_time": "2024-11-21T21:46:14.826362",
     "status": "completed"
    },
    "tags": []
   },
   "outputs": [
    {
     "name": "stdout",
     "output_type": "stream",
     "text": [
      "models/gemini-1.0-pro-001\n",
      "models/gemini-1.5-flash-001-tuning\n"
     ]
    }
   ],
   "source": [
    "for model in genai.list_models():\n",
    "    if \"createTunedModel\" in model.supported_generation_methods:\n",
    "        print(model.name)"
   ]
  },
  {
   "cell_type": "markdown",
   "id": "868e42df",
   "metadata": {
    "id": "peFm0w_0c1CO",
    "papermill": {
     "duration": 0.007555,
     "end_time": "2024-11-21T21:46:14.972861",
     "exception": false,
     "start_time": "2024-11-21T21:46:14.965306",
     "status": "completed"
    },
    "tags": []
   },
   "source": [
    "## Download the dataset\n",
    "\n",
    "In this activity, you will use the same newsgroups dataset that you used to train a classifier in Keras. In this example you will use a fine-tuned Gemini model to achieve the same goal.\n",
    "\n",
    "The [20 Newsgroups Text Dataset](https://scikit-learn.org/0.19/datasets/twenty_newsgroups.html) contains 18,000 newsgroups posts on 20 topics divided into training and test sets."
   ]
  },
  {
   "cell_type": "code",
   "execution_count": 6,
   "id": "1837cfda",
   "metadata": {
    "execution": {
     "iopub.execute_input": "2024-11-21T21:46:14.990308Z",
     "iopub.status.busy": "2024-11-21T21:46:14.989907Z",
     "iopub.status.idle": "2024-11-21T21:46:26.316335Z",
     "shell.execute_reply": "2024-11-21T21:46:26.315258Z"
    },
    "id": "bX_kpgnQ9b-Z",
    "papermill": {
     "duration": 11.337605,
     "end_time": "2024-11-21T21:46:26.318504",
     "exception": false,
     "start_time": "2024-11-21T21:46:14.980899",
     "status": "completed"
    },
    "tags": []
   },
   "outputs": [
    {
     "data": {
      "text/plain": [
       "['alt.atheism',\n",
       " 'comp.graphics',\n",
       " 'comp.os.ms-windows.misc',\n",
       " 'comp.sys.ibm.pc.hardware',\n",
       " 'comp.sys.mac.hardware',\n",
       " 'comp.windows.x',\n",
       " 'misc.forsale',\n",
       " 'rec.autos',\n",
       " 'rec.motorcycles',\n",
       " 'rec.sport.baseball',\n",
       " 'rec.sport.hockey',\n",
       " 'sci.crypt',\n",
       " 'sci.electronics',\n",
       " 'sci.med',\n",
       " 'sci.space',\n",
       " 'soc.religion.christian',\n",
       " 'talk.politics.guns',\n",
       " 'talk.politics.mideast',\n",
       " 'talk.politics.misc',\n",
       " 'talk.religion.misc']"
      ]
     },
     "execution_count": 6,
     "metadata": {},
     "output_type": "execute_result"
    }
   ],
   "source": [
    "from sklearn.datasets import fetch_20newsgroups\n",
    "\n",
    "newsgroups_train = fetch_20newsgroups(subset=\"train\")\n",
    "newsgroups_test = fetch_20newsgroups(subset=\"test\")\n",
    "\n",
    "# View list of class names for dataset\n",
    "newsgroups_train.target_names"
   ]
  },
  {
   "cell_type": "markdown",
   "id": "e18dd8d1",
   "metadata": {
    "id": "ipafe6ptZFjt",
    "papermill": {
     "duration": 0.00782,
     "end_time": "2024-11-21T21:46:26.334910",
     "exception": false,
     "start_time": "2024-11-21T21:46:26.327090",
     "status": "completed"
    },
    "tags": []
   },
   "source": [
    "Here's what a single row looks like."
   ]
  },
  {
   "cell_type": "code",
   "execution_count": 7,
   "id": "ed35933c",
   "metadata": {
    "execution": {
     "iopub.execute_input": "2024-11-21T21:46:26.352468Z",
     "iopub.status.busy": "2024-11-21T21:46:26.352107Z",
     "iopub.status.idle": "2024-11-21T21:46:26.357297Z",
     "shell.execute_reply": "2024-11-21T21:46:26.356197Z"
    },
    "id": "EtEXcdT39hCB",
    "papermill": {
     "duration": 0.016859,
     "end_time": "2024-11-21T21:46:26.359659",
     "exception": false,
     "start_time": "2024-11-21T21:46:26.342800",
     "status": "completed"
    },
    "tags": []
   },
   "outputs": [
    {
     "name": "stdout",
     "output_type": "stream",
     "text": [
      "From: lerxst@wam.umd.edu (where's my thing)\n",
      "Subject: WHAT car is this!?\n",
      "Nntp-Posting-Host: rac3.wam.umd.edu\n",
      "Organization: University of Maryland, College Park\n",
      "Lines: 15\n",
      "\n",
      " I was wondering if anyone out there could enlighten me on this car I saw\n",
      "the other day. It was a 2-door sports car, looked to be from the late 60s/\n",
      "early 70s. It was called a Bricklin. The doors were really small. In addition,\n",
      "the front bumper was separate from the rest of the body. This is \n",
      "all I know. If anyone can tellme a model name, engine specs, years\n",
      "of production, where this car is made, history, or whatever info you\n",
      "have on this funky looking car, please e-mail.\n",
      "\n",
      "Thanks,\n",
      "- IL\n",
      "   ---- brought to you by your neighborhood Lerxst ----\n",
      "\n",
      "\n",
      "\n",
      "\n",
      "\n"
     ]
    }
   ],
   "source": [
    "print(newsgroups_train.data[0])"
   ]
  },
  {
   "cell_type": "markdown",
   "id": "cd7db258",
   "metadata": {
    "id": "03lDs1O4ZQ0-",
    "papermill": {
     "duration": 0.0078,
     "end_time": "2024-11-21T21:46:26.375609",
     "exception": false,
     "start_time": "2024-11-21T21:46:26.367809",
     "status": "completed"
    },
    "tags": []
   },
   "source": [
    "## Prepare the dataset\n",
    "\n",
    "You'll use the same pre-processing code you used for the custom model on day 2. This pre-processing removes personal information, which can be used to \"shortcut\" to known users of a forum, and formats the text to appear a bit more like regular text and less like a newsgroup post (e.g. by removing the mail headers). This normalisation allows the model to generalise to regular text and not over-depend on specific fields. If your input data is always going to be newsgroup posts, it may be helpful to leave this structure in place if they provide genuine signals."
   ]
  },
  {
   "cell_type": "code",
   "execution_count": 8,
   "id": "89fc0818",
   "metadata": {
    "execution": {
     "iopub.execute_input": "2024-11-21T21:46:26.392997Z",
     "iopub.status.busy": "2024-11-21T21:46:26.392661Z",
     "iopub.status.idle": "2024-11-21T21:46:27.214172Z",
     "shell.execute_reply": "2024-11-21T21:46:27.213127Z"
    },
    "id": "IoNYTxpoZgB0",
    "papermill": {
     "duration": 0.833098,
     "end_time": "2024-11-21T21:46:27.216612",
     "exception": false,
     "start_time": "2024-11-21T21:46:26.383514",
     "status": "completed"
    },
    "tags": []
   },
   "outputs": [],
   "source": [
    "import email\n",
    "import re\n",
    "\n",
    "import pandas as pd\n",
    "\n",
    "\n",
    "def preprocess_newsgroup_row(data):\n",
    "    # Extract only the subject and body\n",
    "    msg = email.message_from_string(data)\n",
    "    text = f\"{msg['Subject']}\\n\\n{msg.get_payload()}\"\n",
    "    # Strip any remaining email addresses\n",
    "    text = re.sub(r\"[\\w\\.-]+@[\\w\\.-]+\", \"\", text)\n",
    "    # Truncate the text to fit within the input limits\n",
    "    text = text[:40000]\n",
    "\n",
    "    return text\n",
    "\n",
    "\n",
    "def preprocess_newsgroup_data(newsgroup_dataset):\n",
    "    # Put data points into dataframe\n",
    "    df = pd.DataFrame(\n",
    "        {\"Text\": newsgroup_dataset.data, \"Label\": newsgroup_dataset.target}\n",
    "    )\n",
    "    # Clean up the text\n",
    "    df[\"Text\"] = df[\"Text\"].apply(preprocess_newsgroup_row)\n",
    "    # Match label to target name index\n",
    "    df[\"Class Name\"] = df[\"Label\"].map(lambda l: newsgroup_dataset.target_names[l])\n",
    "\n",
    "    return df"
   ]
  },
  {
   "cell_type": "code",
   "execution_count": 9,
   "id": "884cd3cf",
   "metadata": {
    "execution": {
     "iopub.execute_input": "2024-11-21T21:46:27.234973Z",
     "iopub.status.busy": "2024-11-21T21:46:27.234442Z",
     "iopub.status.idle": "2024-11-21T21:46:30.924934Z",
     "shell.execute_reply": "2024-11-21T21:46:30.923898Z"
    },
    "id": "kvOsUSRWaW4g",
    "papermill": {
     "duration": 3.702823,
     "end_time": "2024-11-21T21:46:30.927748",
     "exception": false,
     "start_time": "2024-11-21T21:46:27.224925",
     "status": "completed"
    },
    "tags": []
   },
   "outputs": [
    {
     "data": {
      "text/html": [
       "<div>\n",
       "<style scoped>\n",
       "    .dataframe tbody tr th:only-of-type {\n",
       "        vertical-align: middle;\n",
       "    }\n",
       "\n",
       "    .dataframe tbody tr th {\n",
       "        vertical-align: top;\n",
       "    }\n",
       "\n",
       "    .dataframe thead th {\n",
       "        text-align: right;\n",
       "    }\n",
       "</style>\n",
       "<table border=\"1\" class=\"dataframe\">\n",
       "  <thead>\n",
       "    <tr style=\"text-align: right;\">\n",
       "      <th></th>\n",
       "      <th>Text</th>\n",
       "      <th>Label</th>\n",
       "      <th>Class Name</th>\n",
       "    </tr>\n",
       "  </thead>\n",
       "  <tbody>\n",
       "    <tr>\n",
       "      <th>0</th>\n",
       "      <td>WHAT car is this!?\\n\\n I was wondering if anyo...</td>\n",
       "      <td>7</td>\n",
       "      <td>rec.autos</td>\n",
       "    </tr>\n",
       "    <tr>\n",
       "      <th>1</th>\n",
       "      <td>SI Clock Poll - Final Call\\n\\nA fair number of...</td>\n",
       "      <td>4</td>\n",
       "      <td>comp.sys.mac.hardware</td>\n",
       "    </tr>\n",
       "    <tr>\n",
       "      <th>2</th>\n",
       "      <td>PB questions...\\n\\nwell folks, my mac plus fin...</td>\n",
       "      <td>4</td>\n",
       "      <td>comp.sys.mac.hardware</td>\n",
       "    </tr>\n",
       "    <tr>\n",
       "      <th>3</th>\n",
       "      <td>Re: Weitek P9000 ?\\n\\nRobert J.C. Kyanko () wr...</td>\n",
       "      <td>1</td>\n",
       "      <td>comp.graphics</td>\n",
       "    </tr>\n",
       "    <tr>\n",
       "      <th>4</th>\n",
       "      <td>Re: Shuttle Launch Question\\n\\nFrom article &lt;&gt;...</td>\n",
       "      <td>14</td>\n",
       "      <td>sci.space</td>\n",
       "    </tr>\n",
       "  </tbody>\n",
       "</table>\n",
       "</div>"
      ],
      "text/plain": [
       "                                                Text  Label  \\\n",
       "0  WHAT car is this!?\\n\\n I was wondering if anyo...      7   \n",
       "1  SI Clock Poll - Final Call\\n\\nA fair number of...      4   \n",
       "2  PB questions...\\n\\nwell folks, my mac plus fin...      4   \n",
       "3  Re: Weitek P9000 ?\\n\\nRobert J.C. Kyanko () wr...      1   \n",
       "4  Re: Shuttle Launch Question\\n\\nFrom article <>...     14   \n",
       "\n",
       "              Class Name  \n",
       "0              rec.autos  \n",
       "1  comp.sys.mac.hardware  \n",
       "2  comp.sys.mac.hardware  \n",
       "3          comp.graphics  \n",
       "4              sci.space  "
      ]
     },
     "execution_count": 9,
     "metadata": {},
     "output_type": "execute_result"
    }
   ],
   "source": [
    "# Apply preprocessing to training and test datasets\n",
    "df_train = preprocess_newsgroup_data(newsgroups_train)\n",
    "df_test = preprocess_newsgroup_data(newsgroups_test)\n",
    "\n",
    "df_train.head()"
   ]
  },
  {
   "cell_type": "markdown",
   "id": "915131b8",
   "metadata": {
    "id": "XSKcj5WtadaR",
    "papermill": {
     "duration": 0.008793,
     "end_time": "2024-11-21T21:46:30.947576",
     "exception": false,
     "start_time": "2024-11-21T21:46:30.938783",
     "status": "completed"
    },
    "tags": []
   },
   "source": [
    "Now sample the data. You will keep 50 rows for each category for training. Note that this is even fewer than the Keras example, as this technique (parameter-efficient fine-tuning, or PEFT) updates a relatively small number of parameters and does not require training a new model or updating the large model."
   ]
  },
  {
   "cell_type": "code",
   "execution_count": 10,
   "id": "fbf29dbf",
   "metadata": {
    "execution": {
     "iopub.execute_input": "2024-11-21T21:46:30.966307Z",
     "iopub.status.busy": "2024-11-21T21:46:30.965793Z",
     "iopub.status.idle": "2024-11-21T21:46:31.006775Z",
     "shell.execute_reply": "2024-11-21T21:46:31.005794Z"
    },
    "id": "0t9Xu6X5akkt",
    "papermill": {
     "duration": 0.052712,
     "end_time": "2024-11-21T21:46:31.009023",
     "exception": false,
     "start_time": "2024-11-21T21:46:30.956311",
     "status": "completed"
    },
    "tags": []
   },
   "outputs": [],
   "source": [
    "def sample_data(df, num_samples, classes_to_keep):\n",
    "    # Sample rows, selecting num_samples of each Label.\n",
    "    df = (\n",
    "        df.groupby(\"Label\")[df.columns]\n",
    "        .apply(lambda x: x.sample(num_samples))\n",
    "        .reset_index(drop=True)\n",
    "    )\n",
    "\n",
    "    df = df[df[\"Class Name\"].str.contains(classes_to_keep)]\n",
    "    df[\"Class Name\"] = df[\"Class Name\"].astype(\"category\")\n",
    "\n",
    "    return df\n",
    "\n",
    "\n",
    "TRAIN_NUM_SAMPLES = 50\n",
    "TEST_NUM_SAMPLES = 10\n",
    "# Keep rec.* and sci.*\n",
    "CLASSES_TO_KEEP = \"^rec|^sci\"\n",
    "\n",
    "df_train = sample_data(df_train, TRAIN_NUM_SAMPLES, CLASSES_TO_KEEP)\n",
    "df_test = sample_data(df_test, TEST_NUM_SAMPLES, CLASSES_TO_KEEP)"
   ]
  },
  {
   "cell_type": "markdown",
   "id": "1bf20285",
   "metadata": {
    "papermill": {
     "duration": 0.007948,
     "end_time": "2024-11-21T21:46:31.025359",
     "exception": false,
     "start_time": "2024-11-21T21:46:31.017411",
     "status": "completed"
    },
    "tags": []
   },
   "source": [
    "## Evaluate baseline performance\n",
    "\n",
    "Before you start tuning a model, it's good practice to perform an evaluation on the available models to ensure you can measure how much the tuning helps.\n",
    "\n",
    "First identify a single sample row to use for visual inspection."
   ]
  },
  {
   "cell_type": "code",
   "execution_count": 11,
   "id": "41836d2f",
   "metadata": {
    "execution": {
     "iopub.execute_input": "2024-11-21T21:46:31.043298Z",
     "iopub.status.busy": "2024-11-21T21:46:31.042791Z",
     "iopub.status.idle": "2024-11-21T21:46:31.048827Z",
     "shell.execute_reply": "2024-11-21T21:46:31.047829Z"
    },
    "papermill": {
     "duration": 0.017601,
     "end_time": "2024-11-21T21:46:31.051028",
     "exception": false,
     "start_time": "2024-11-21T21:46:31.033427",
     "status": "completed"
    },
    "tags": []
   },
   "outputs": [
    {
     "name": "stdout",
     "output_type": "stream",
     "text": [
      "Need info on 88-89 Bonneville\n",
      "\n",
      "\n",
      " I am a little confused on all of the models of the 88-89 bonnevilles.\n",
      "I have heard of the LE SE LSE SSE SSEI. Could someone tell me the\n",
      "differences are far as features or performance. I am also curious to\n",
      "know what the book value is for prefereably the 89 model. And how much\n",
      "less than book value can you usually get them for. In other words how\n",
      "much are they in demand this time of year. I have heard that the mid-spring\n",
      "early summer is the best time to buy.\n",
      "\n",
      "\t\t\tNeil Gandler\n",
      "\n",
      "---\n",
      "Label: rec.autos\n"
     ]
    }
   ],
   "source": [
    "sample_idx = 0\n",
    "sample_row = preprocess_newsgroup_row(newsgroups_test.data[sample_idx])\n",
    "sample_label = newsgroups_test.target_names[newsgroups_test.target[sample_idx]]\n",
    "\n",
    "print(sample_row)\n",
    "print('---')\n",
    "print('Label:', sample_label)"
   ]
  },
  {
   "cell_type": "markdown",
   "id": "412ebb65",
   "metadata": {
    "papermill": {
     "duration": 0.008199,
     "end_time": "2024-11-21T21:46:31.067619",
     "exception": false,
     "start_time": "2024-11-21T21:46:31.059420",
     "status": "completed"
    },
    "tags": []
   },
   "source": [
    "Passing the text directly in as a prompt does not yield the desired results. The model will attempt to respond to the message."
   ]
  },
  {
   "cell_type": "code",
   "execution_count": 12,
   "id": "18ee39b9",
   "metadata": {
    "execution": {
     "iopub.execute_input": "2024-11-21T21:46:31.085877Z",
     "iopub.status.busy": "2024-11-21T21:46:31.085520Z",
     "iopub.status.idle": "2024-11-21T21:46:35.124194Z",
     "shell.execute_reply": "2024-11-21T21:46:35.123141Z"
    },
    "papermill": {
     "duration": 4.05094,
     "end_time": "2024-11-21T21:46:35.126896",
     "exception": false,
     "start_time": "2024-11-21T21:46:31.075956",
     "status": "completed"
    },
    "tags": []
   },
   "outputs": [
    {
     "name": "stdout",
     "output_type": "stream",
     "text": [
      "You're right, the Bonneville lineup in those years was a bit confusing!  Here's a breakdown of the different models, their features, and some guidance on pricing:\n",
      "\n",
      "**1988-1989 Bonneville Trim Levels**\n",
      "\n",
      "* **Base Bonneville:** This was the entry-level model. It came with a 3.8L V6 engine and a 4-speed automatic transmission. It had basic features like cloth upholstery, vinyl roof, and a AM/FM radio.\n",
      "\n",
      "* **LE (Luxury Edition):** This trim level added some comfort and convenience features like power windows and locks, cruise control, and a tilt steering wheel.\n",
      "\n",
      "* **SE (Special Edition):** This trim level focused on sporty styling. It had a different grille, body-colored bumpers, and special wheels. It also included power windows and locks, but no cruise control.\n",
      "\n",
      "* **LSE (Luxury Special Edition):** This was a combination of the LE and SE, offering both luxury and sporty features. It had the same features as the LE, but with the SE's sportier styling.\n",
      "\n",
      "* **SSE (Sport Sedan Edition):** This was the top-of-the-line model. It came standard with a 3.8L V6 with a \"tuned-port injection\" system that gave it a bit more power.  It also included features like leather upholstery, a cassette player, and a digital instrument cluster.\n",
      "\n",
      "* **SSEi (Sport Sedan Edition - Injection):** This was essentially the same as the SSE but featured a larger, more powerful 3.8L V6 engine with electronic fuel injection, giving it even more performance.\n",
      "\n",
      "**Performance & Features**\n",
      "\n",
      "* **Engine Options:**  The standard 3.8L V6 produced around 135 horsepower. The SSE and SSEi had different versions of the 3.8L, with the SSEi being the most powerful.\n",
      "* **Transmission:** All Bonnevilles used a 4-speed automatic transmission.\n",
      "* **Exterior:**  The main differences were in the styling (grille, bumpers, wheels) and trim levels.\n",
      "* **Interior:**  Leather upholstery, power features, and audio systems varied based on trim level.\n",
      "\n",
      "**Book Value and Pricing**\n",
      "\n",
      "* **Book Value:**  To find book value, you can use online resources like Kelley Blue Book (KBB) or Edmunds. \n",
      "* **Negotiating Price:**  Bonnevilles of that era are generally inexpensive, with even the SSEi typically selling for under $3,000 in good condition.  You can often find them for less than book value, especially if they need some minor work or if the seller is motivated.\n",
      "* **Demand:**  As these are older cars, demand isn't high. However, if you're looking for a specific model or condition, you may need to be patient.\n",
      "\n",
      "**Tips for Buying a Bonneville**\n",
      "\n",
      "* **Research:**  Before buying, do your research on the model and its potential issues. This will help you avoid costly repairs later.\n",
      "* **Check the Vehicle History Report:**  Use services like Carfax or AutoCheck to get a vehicle history report. This will tell you if the car has been in any accidents, has any outstanding recalls, or if the odometer has been tampered with.\n",
      "* **Thorough Inspection:**  Have a mechanic inspect the car before you buy it. This will help you identify any potential problems.\n",
      "* **Test Drive:**  Take the car for a test drive to get a feel for how it drives. \n",
      "\n",
      "**Good Luck with Your Search!** \n",
      "\n"
     ]
    }
   ],
   "source": [
    "baseline_model = genai.GenerativeModel(\"gemini-1.5-flash-001\")\n",
    "response = baseline_model.generate_content(sample_row)\n",
    "print(response.text)"
   ]
  },
  {
   "cell_type": "markdown",
   "id": "32b5145c",
   "metadata": {
    "papermill": {
     "duration": 0.008198,
     "end_time": "2024-11-21T21:46:35.143667",
     "exception": false,
     "start_time": "2024-11-21T21:46:35.135469",
     "status": "completed"
    },
    "tags": []
   },
   "source": [
    "You can use the prompt engineering techniques you have learned this week to induce the model to perform the desired task. Try some of your own ideas and see what is effective, or check out the following cells for different approaches. Note that they have different levels of effectiveness!"
   ]
  },
  {
   "cell_type": "code",
   "execution_count": 13,
   "id": "96adcdd6",
   "metadata": {
    "execution": {
     "iopub.execute_input": "2024-11-21T21:46:35.162033Z",
     "iopub.status.busy": "2024-11-21T21:46:35.161632Z",
     "iopub.status.idle": "2024-11-21T21:46:36.012985Z",
     "shell.execute_reply": "2024-11-21T21:46:36.011896Z"
    },
    "papermill": {
     "duration": 0.863111,
     "end_time": "2024-11-21T21:46:36.015200",
     "exception": false,
     "start_time": "2024-11-21T21:46:35.152089",
     "status": "completed"
    },
    "tags": []
   },
   "outputs": [
    {
     "name": "stdout",
     "output_type": "stream",
     "text": [
      "This message likely originates from a **newsgroup dedicated to Pontiac Bonnevilles**, potentially one of the following:\n",
      "\n",
      "* **alt.autos.pontiac**: A general newsgroup for Pontiac car enthusiasts.\n",
      "* **rec.autos.pontiac**: Another newsgroup for Pontiac car enthusiasts.\n",
      "* **alt.autos.pontiac.bonneville**: A more specific newsgroup for Bonneville owners and enthusiasts.\n",
      "\n",
      "The message's content, focusing on model variations and pricing for 1988-1989 Bonneville models, strongly suggests a source related to Pontiac Bonnevilles. \n",
      "\n"
     ]
    }
   ],
   "source": [
    "# Ask the model directly in a zero-shot prompt.\n",
    "\n",
    "prompt = \"From what newsgroup does the following message originate?\"\n",
    "baseline_response = baseline_model.generate_content([prompt, sample_row])\n",
    "print(baseline_response.text)"
   ]
  },
  {
   "cell_type": "markdown",
   "id": "d5748cef",
   "metadata": {
    "papermill": {
     "duration": 0.008356,
     "end_time": "2024-11-21T21:46:36.032754",
     "exception": false,
     "start_time": "2024-11-21T21:46:36.024398",
     "status": "completed"
    },
    "tags": []
   },
   "source": [
    "That technique produces quite a verbose response. You could try and pick out the relevant text, or refine the prompt even further."
   ]
  },
  {
   "cell_type": "code",
   "execution_count": 14,
   "id": "a0570406",
   "metadata": {
    "execution": {
     "iopub.execute_input": "2024-11-21T21:46:36.051878Z",
     "iopub.status.busy": "2024-11-21T21:46:36.050909Z",
     "iopub.status.idle": "2024-11-21T21:46:36.351575Z",
     "shell.execute_reply": "2024-11-21T21:46:36.350456Z"
    },
    "papermill": {
     "duration": 0.312514,
     "end_time": "2024-11-21T21:46:36.353669",
     "exception": false,
     "start_time": "2024-11-21T21:46:36.041155",
     "status": "completed"
    },
    "tags": []
   },
   "outputs": [
    {
     "name": "stdout",
     "output_type": "stream",
     "text": [
      "rec.autos.misc\n",
      "\n",
      "Incorrect.\n"
     ]
    }
   ],
   "source": [
    "from google.api_core import retry\n",
    "\n",
    "# You can use a system instruction to do more direct prompting, and get a\n",
    "# more succinct answer.\n",
    "\n",
    "system_instruct = \"\"\"\n",
    "You are a classification service. You will be passed input that represents\n",
    "a newsgroup post and you must respond with the newsgroup from which the post\n",
    "originates.\n",
    "\"\"\"\n",
    "\n",
    "instructed_model = genai.GenerativeModel(\"gemini-1.5-flash-001\",\n",
    "                                         system_instruction=system_instruct)\n",
    "\n",
    "retry_policy = {\"retry\": retry.Retry(predicate=retry.if_transient_error)}\n",
    "\n",
    "# If you want to evaluate your own technique, replace this function with your\n",
    "# model, prompt and other code and return the predicted answer.\n",
    "def predict_label(post: str) -> str:\n",
    "    response = instructed_model.generate_content(post, request_options=retry_policy)\n",
    "    rc = response.candidates[0]\n",
    "\n",
    "    # Any errors, filters, recitation, etc we can mark as a general error\n",
    "    if rc.finish_reason.name != \"STOP\":\n",
    "        return \"(error)\"\n",
    "    else:\n",
    "        # Clean up the response.\n",
    "        return response.text.strip()\n",
    "\n",
    "\n",
    "prediction = predict_label(sample_row)\n",
    "\n",
    "print(prediction)\n",
    "print()\n",
    "print(\"Correct!\" if prediction == sample_label else \"Incorrect.\")"
   ]
  },
  {
   "cell_type": "markdown",
   "id": "3fd0377c",
   "metadata": {
    "papermill": {
     "duration": 0.008403,
     "end_time": "2024-11-21T21:46:36.370720",
     "exception": false,
     "start_time": "2024-11-21T21:46:36.362317",
     "status": "completed"
    },
    "tags": []
   },
   "source": [
    "Now run a short evaluation using the function defined above. The test set is further sampled to ensure the experiment runs smoothly on the API's free tier. In practice you would evaluate over the whole set."
   ]
  },
  {
   "cell_type": "code",
   "execution_count": 15,
   "id": "1ad50f13",
   "metadata": {
    "execution": {
     "iopub.execute_input": "2024-11-21T21:46:36.389505Z",
     "iopub.status.busy": "2024-11-21T21:46:36.389103Z",
     "iopub.status.idle": "2024-11-21T21:47:31.812893Z",
     "shell.execute_reply": "2024-11-21T21:47:31.811932Z"
    },
    "papermill": {
     "duration": 55.436226,
     "end_time": "2024-11-21T21:47:31.815511",
     "exception": false,
     "start_time": "2024-11-21T21:46:36.379285",
     "status": "completed"
    },
    "tags": []
   },
   "outputs": [
    {
     "data": {
      "application/vnd.jupyter.widget-view+json": {
       "model_id": "f64f04e1d52b456bbed5130378f435a7",
       "version_major": 2,
       "version_minor": 0
      },
      "text/plain": [
       "Output()"
      ]
     },
     "metadata": {},
     "output_type": "display_data"
    },
    {
     "name": "stderr",
     "output_type": "stream",
     "text": [
      "/opt/conda/lib/python3.10/site-packages/tqdm/std.py:885: TqdmExperimentalWarning: rich is experimental/alpha\n",
      "  t = cls(total=total, **tqdm_kwargs)\n"
     ]
    },
    {
     "data": {
      "text/html": [
       "<pre style=\"white-space:pre;overflow-x:auto;line-height:normal;font-family:Menlo,'DejaVu Sans Mono',consolas,'Courier New',monospace\"></pre>\n"
      ],
      "text/plain": []
     },
     "metadata": {},
     "output_type": "display_data"
    },
    {
     "data": {
      "text/html": [
       "<pre style=\"white-space:pre;overflow-x:auto;line-height:normal;font-family:Menlo,'DejaVu Sans Mono',consolas,'Courier New',monospace\">\n",
       "</pre>\n"
      ],
      "text/plain": [
       "\n"
      ]
     },
     "metadata": {},
     "output_type": "display_data"
    },
    {
     "name": "stdout",
     "output_type": "stream",
     "text": [
      "Accuracy: 25.00%\n"
     ]
    }
   ],
   "source": [
    "from tqdm.rich import tqdm\n",
    "\n",
    "tqdm.pandas()\n",
    "\n",
    "\n",
    "# Further sample the test data to be mindful of the free-tier quota.\n",
    "df_baseline_eval = sample_data(df_test, 2, '.*')\n",
    "\n",
    "# Make predictions using the sampled data.\n",
    "df_baseline_eval['Prediction'] = df_baseline_eval['Text'].progress_apply(predict_label)\n",
    "\n",
    "# And calculate the accuracy.\n",
    "accuracy = (df_baseline_eval[\"Class Name\"] == df_baseline_eval[\"Prediction\"]).sum() / len(df_baseline_eval)\n",
    "print(f\"Accuracy: {accuracy:.2%}\")"
   ]
  },
  {
   "cell_type": "markdown",
   "id": "77d1f5c5",
   "metadata": {
    "papermill": {
     "duration": 0.012511,
     "end_time": "2024-11-21T21:47:31.843947",
     "exception": false,
     "start_time": "2024-11-21T21:47:31.831436",
     "status": "completed"
    },
    "tags": []
   },
   "source": [
    "Now take a look at the dataframe to compare the predictions with the labels."
   ]
  },
  {
   "cell_type": "code",
   "execution_count": 16,
   "id": "e8b6064f",
   "metadata": {
    "execution": {
     "iopub.execute_input": "2024-11-21T21:47:33.290309Z",
     "iopub.status.busy": "2024-11-21T21:47:33.289942Z",
     "iopub.status.idle": "2024-11-21T21:47:33.300922Z",
     "shell.execute_reply": "2024-11-21T21:47:33.300016Z"
    },
    "papermill": {
     "duration": 1.445694,
     "end_time": "2024-11-21T21:47:33.302811",
     "exception": false,
     "start_time": "2024-11-21T21:47:31.857117",
     "status": "completed"
    },
    "tags": []
   },
   "outputs": [
    {
     "data": {
      "text/html": [
       "<div>\n",
       "<style scoped>\n",
       "    .dataframe tbody tr th:only-of-type {\n",
       "        vertical-align: middle;\n",
       "    }\n",
       "\n",
       "    .dataframe tbody tr th {\n",
       "        vertical-align: top;\n",
       "    }\n",
       "\n",
       "    .dataframe thead th {\n",
       "        text-align: right;\n",
       "    }\n",
       "</style>\n",
       "<table border=\"1\" class=\"dataframe\">\n",
       "  <thead>\n",
       "    <tr style=\"text-align: right;\">\n",
       "      <th></th>\n",
       "      <th>Text</th>\n",
       "      <th>Label</th>\n",
       "      <th>Class Name</th>\n",
       "      <th>Prediction</th>\n",
       "    </tr>\n",
       "  </thead>\n",
       "  <tbody>\n",
       "    <tr>\n",
       "      <th>0</th>\n",
       "      <td>Looking for low lease rate on Toyota Previa\\n\\...</td>\n",
       "      <td>7</td>\n",
       "      <td>rec.autos</td>\n",
       "      <td>rec.autos.marketplace</td>\n",
       "    </tr>\n",
       "    <tr>\n",
       "      <th>1</th>\n",
       "      <td>geico annoyance\\n\\nif you want to annoy geico,...</td>\n",
       "      <td>7</td>\n",
       "      <td>rec.autos</td>\n",
       "      <td>alt.insurance</td>\n",
       "    </tr>\n",
       "    <tr>\n",
       "      <th>2</th>\n",
       "      <td>Re: Countersteering sans Hands\\n\\nIn article &lt;...</td>\n",
       "      <td>8</td>\n",
       "      <td>rec.motorcycles</td>\n",
       "      <td>rec.motorcycles</td>\n",
       "    </tr>\n",
       "    <tr>\n",
       "      <th>3</th>\n",
       "      <td>Re: What is a squid? (was Re: Riceburner Respe...</td>\n",
       "      <td>8</td>\n",
       "      <td>rec.motorcycles</td>\n",
       "      <td>rec.motorcycles</td>\n",
       "    </tr>\n",
       "    <tr>\n",
       "      <th>4</th>\n",
       "      <td>Re: Why is Barry Bonds not batting 4th?\\n\\nIn ...</td>\n",
       "      <td>9</td>\n",
       "      <td>rec.sport.baseball</td>\n",
       "      <td>rec.sports.baseball</td>\n",
       "    </tr>\n",
       "    <tr>\n",
       "      <th>5</th>\n",
       "      <td>CUB fever.\\n\\n (Orin Roth) writes:\\n&gt;   CUB fe...</td>\n",
       "      <td>9</td>\n",
       "      <td>rec.sport.baseball</td>\n",
       "      <td>rec.sport.baseball</td>\n",
       "    </tr>\n",
       "    <tr>\n",
       "      <th>6</th>\n",
       "      <td>German audience is lunatic??\\n\\nI watched the ...</td>\n",
       "      <td>10</td>\n",
       "      <td>rec.sport.hockey</td>\n",
       "      <td>rec.sports.hockey</td>\n",
       "    </tr>\n",
       "    <tr>\n",
       "      <th>7</th>\n",
       "      <td>Re: Trivia question\\n\\nIn article &lt;&gt;,  (Carol ...</td>\n",
       "      <td>10</td>\n",
       "      <td>rec.sport.hockey</td>\n",
       "      <td>rec.sports.hockey</td>\n",
       "    </tr>\n",
       "    <tr>\n",
       "      <th>8</th>\n",
       "      <td>PGP Where to get it?\\n\\n        I am both new ...</td>\n",
       "      <td>11</td>\n",
       "      <td>sci.crypt</td>\n",
       "      <td>(error)</td>\n",
       "    </tr>\n",
       "    <tr>\n",
       "      <th>9</th>\n",
       "      <td>Basic Crypto Requirements\\n\\n\\n  In order to h...</td>\n",
       "      <td>11</td>\n",
       "      <td>sci.crypt</td>\n",
       "      <td>(error)</td>\n",
       "    </tr>\n",
       "    <tr>\n",
       "      <th>10</th>\n",
       "      <td>Re: Acceleration sensor?\\n\\n\\nIn article ,   (...</td>\n",
       "      <td>12</td>\n",
       "      <td>sci.electronics</td>\n",
       "      <td>comp.electronics.misc</td>\n",
       "    </tr>\n",
       "    <tr>\n",
       "      <th>11</th>\n",
       "      <td>Features for answering machines(esp. digital)\\...</td>\n",
       "      <td>12</td>\n",
       "      <td>sci.electronics</td>\n",
       "      <td>comp.sys.ibm.pc.hardware</td>\n",
       "    </tr>\n",
       "    <tr>\n",
       "      <th>12</th>\n",
       "      <td>Re: Earwax\\n\\nIn article &lt;&gt;,  (Stephen Montgom...</td>\n",
       "      <td>13</td>\n",
       "      <td>sci.med</td>\n",
       "      <td>alt.med.diseases</td>\n",
       "    </tr>\n",
       "    <tr>\n",
       "      <th>13</th>\n",
       "      <td>Re: Need info on Circumcision, medical cons an...</td>\n",
       "      <td>13</td>\n",
       "      <td>sci.med</td>\n",
       "      <td>(error)</td>\n",
       "    </tr>\n",
       "    <tr>\n",
       "      <th>14</th>\n",
       "      <td>Re: temperature of the dark sky\\n\\nIn article ...</td>\n",
       "      <td>14</td>\n",
       "      <td>sci.space</td>\n",
       "      <td>sci.space</td>\n",
       "    </tr>\n",
       "    <tr>\n",
       "      <th>15</th>\n",
       "      <td>Re: Gamma Ray Bursters How energetic could the...</td>\n",
       "      <td>14</td>\n",
       "      <td>sci.space</td>\n",
       "      <td>sci.astro</td>\n",
       "    </tr>\n",
       "  </tbody>\n",
       "</table>\n",
       "</div>"
      ],
      "text/plain": [
       "                                                 Text  Label  \\\n",
       "0   Looking for low lease rate on Toyota Previa\\n\\...      7   \n",
       "1   geico annoyance\\n\\nif you want to annoy geico,...      7   \n",
       "2   Re: Countersteering sans Hands\\n\\nIn article <...      8   \n",
       "3   Re: What is a squid? (was Re: Riceburner Respe...      8   \n",
       "4   Re: Why is Barry Bonds not batting 4th?\\n\\nIn ...      9   \n",
       "5   CUB fever.\\n\\n (Orin Roth) writes:\\n>   CUB fe...      9   \n",
       "6   German audience is lunatic??\\n\\nI watched the ...     10   \n",
       "7   Re: Trivia question\\n\\nIn article <>,  (Carol ...     10   \n",
       "8   PGP Where to get it?\\n\\n        I am both new ...     11   \n",
       "9   Basic Crypto Requirements\\n\\n\\n  In order to h...     11   \n",
       "10  Re: Acceleration sensor?\\n\\n\\nIn article ,   (...     12   \n",
       "11  Features for answering machines(esp. digital)\\...     12   \n",
       "12  Re: Earwax\\n\\nIn article <>,  (Stephen Montgom...     13   \n",
       "13  Re: Need info on Circumcision, medical cons an...     13   \n",
       "14  Re: temperature of the dark sky\\n\\nIn article ...     14   \n",
       "15  Re: Gamma Ray Bursters How energetic could the...     14   \n",
       "\n",
       "            Class Name                Prediction  \n",
       "0            rec.autos     rec.autos.marketplace  \n",
       "1            rec.autos             alt.insurance  \n",
       "2      rec.motorcycles           rec.motorcycles  \n",
       "3      rec.motorcycles           rec.motorcycles  \n",
       "4   rec.sport.baseball       rec.sports.baseball  \n",
       "5   rec.sport.baseball        rec.sport.baseball  \n",
       "6     rec.sport.hockey         rec.sports.hockey  \n",
       "7     rec.sport.hockey         rec.sports.hockey  \n",
       "8            sci.crypt                   (error)  \n",
       "9            sci.crypt                   (error)  \n",
       "10     sci.electronics     comp.electronics.misc  \n",
       "11     sci.electronics  comp.sys.ibm.pc.hardware  \n",
       "12             sci.med          alt.med.diseases  \n",
       "13             sci.med                   (error)  \n",
       "14           sci.space                 sci.space  \n",
       "15           sci.space                 sci.astro  "
      ]
     },
     "execution_count": 16,
     "metadata": {},
     "output_type": "execute_result"
    }
   ],
   "source": [
    "df_baseline_eval"
   ]
  },
  {
   "cell_type": "markdown",
   "id": "7d342e22",
   "metadata": {
    "id": "Ok7ugrLzcghX",
    "papermill": {
     "duration": 0.009082,
     "end_time": "2024-11-21T21:47:33.321521",
     "exception": false,
     "start_time": "2024-11-21T21:47:33.312439",
     "status": "completed"
    },
    "tags": []
   },
   "source": [
    "## Tune a custom model\n",
    "\n",
    "In this example you'll use tuning to help create a model that requires no prompting or system instructions and outputs succinct text from the classes you provide in the training data.\n",
    "\n",
    "The data contains both input text (the processed posts) and output text (the category, or newsgroup), which you can use to start tuning a model.\n",
    "\n",
    "The Python SDK for tuning supports Pandas dataframes as input, so you don't need any custom data generators or pipelines. Just specify the input and the relevant columns as the `input_key` and `output_key`.\n",
    "\n",
    "When calling `create_tuned_model`, you can specify model tuning hyperparameters too:\n",
    " - `epoch_count`: defines how many times to loop through the data,\n",
    " - `batch_size`: defines how many rows to process in a single step, and\n",
    " - `learning_rate`: defines the scaling factor for updating model weights at each step.\n",
    "\n",
    "You can also choose to omit them and use the defaults. [Learn more](https://developers.google.com/machine-learning/crash-course/linear-regression/hyperparameters) about these parameters and how they work. For this example these parameters were selected by running some tuning jobs and selecting parameters that were both effective and quick."
   ]
  },
  {
   "cell_type": "code",
   "execution_count": 17,
   "id": "d6582a43",
   "metadata": {
    "execution": {
     "iopub.execute_input": "2024-11-21T21:47:33.341725Z",
     "iopub.status.busy": "2024-11-21T21:47:33.341353Z",
     "iopub.status.idle": "2024-11-21T21:47:33.728123Z",
     "shell.execute_reply": "2024-11-21T21:47:33.727123Z"
    },
    "id": "pWOZlspfY8dV",
    "papermill": {
     "duration": 0.399517,
     "end_time": "2024-11-21T21:47:33.730267",
     "exception": false,
     "start_time": "2024-11-21T21:47:33.330750",
     "status": "completed"
    },
    "tags": []
   },
   "outputs": [
    {
     "name": "stdout",
     "output_type": "stream",
     "text": [
      "newsgroup-classifier-23974\n"
     ]
    }
   ],
   "source": [
    "from collections.abc import Iterable\n",
    "import random\n",
    "\n",
    "\n",
    "# Append a random number to the model ID so you can re-run with a higher chance\n",
    "# of creating a unique model ID.\n",
    "model_id = f\"newsgroup-classifier-{random.randint(10000, 99999)}\"\n",
    "\n",
    "# Upload the training data and queue the tuning job.\n",
    "tuning_op = genai.create_tuned_model(\n",
    "    \"models/gemini-1.5-flash-001-tuning\",\n",
    "    training_data=df_train,\n",
    "    input_key=\"Text\",  # the column to use as input\n",
    "    output_key=\"Class Name\",  # the column to use as output\n",
    "    id=model_id,\n",
    "    display_name=\"Newsgroup classification model\",\n",
    "    batch_size=16,\n",
    "    epoch_count=2,\n",
    ")\n",
    "\n",
    "print(model_id)"
   ]
  },
  {
   "cell_type": "markdown",
   "id": "cb6823fe",
   "metadata": {
    "id": "NQ3YZ2MBubCY",
    "papermill": {
     "duration": 0.009293,
     "end_time": "2024-11-21T21:47:33.750763",
     "exception": false,
     "start_time": "2024-11-21T21:47:33.741470",
     "status": "completed"
    },
    "tags": []
   },
   "source": [
    "This has created a tuning job that will run in the background. To inspect the progress of the tuning job, run this cell to plot the current status and loss curve. Once the status reaches `ACTIVE`, tuning is complete and the model is ready to use.\n",
    "\n",
    "Tuning jobs are queued, so it may look like no training steps have been taken initially but it will progress. Tuning can take upwards of 20 minutes, depending on factors like your dataset size and how busy the tuning infrastrature is. Why not treat yourself to a nice cup of tea while you wait, or come and say \"Hi!\" to [yours truly](https://discord.com/users/132124213132787712) in the group [Discord](https://discord.com/invite/kaggle).\n",
    "\n",
    "It is safe to stop this cell at any point. It will not stop the tuning job."
   ]
  },
  {
   "cell_type": "code",
   "execution_count": 18,
   "id": "6befb54e",
   "metadata": {
    "execution": {
     "iopub.execute_input": "2024-11-21T21:47:33.772306Z",
     "iopub.status.busy": "2024-11-21T21:47:33.771328Z",
     "iopub.status.idle": "2024-11-21T21:52:35.466288Z",
     "shell.execute_reply": "2024-11-21T21:52:35.465117Z"
    },
    "id": "c4ef5f13692d",
    "papermill": {
     "duration": 301.708035,
     "end_time": "2024-11-21T21:52:35.468480",
     "exception": false,
     "start_time": "2024-11-21T21:47:33.760445",
     "status": "completed"
    },
    "tags": []
   },
   "outputs": [
    {
     "name": "stdout",
     "output_type": "stream",
     "text": [
      "State.CREATING\n",
      "State.CREATING\n",
      "State.CREATING\n",
      "State.CREATING\n",
      "State.CREATING\n",
      "Done! The model is ACTIVE\n"
     ]
    },
    {
     "name": "stderr",
     "output_type": "stream",
     "text": [
      "/opt/conda/lib/python3.10/site-packages/seaborn/_oldcore.py:1119: FutureWarning: use_inf_as_na option is deprecated and will be removed in a future version. Convert inf values to NaN before operating instead.\n",
      "  with pd.option_context('mode.use_inf_as_na', True):\n",
      "/opt/conda/lib/python3.10/site-packages/seaborn/_oldcore.py:1119: FutureWarning: use_inf_as_na option is deprecated and will be removed in a future version. Convert inf values to NaN before operating instead.\n",
      "  with pd.option_context('mode.use_inf_as_na', True):\n"
     ]
    },
    {
     "data": {
      "text/plain": [
       "<Axes: xlabel='step', ylabel='mean_loss'>"
      ]
     },
     "execution_count": 18,
     "metadata": {},
     "output_type": "execute_result"
    },
    {
     "data": {
      "image/png": "[encoded data removed]",
      "text/plain": [
       "<Figure size 640x480 with 1 Axes>"
      ]
     },
     "metadata": {},
     "output_type": "display_data"
    }
   ],
   "source": [
    "import time\n",
    "import seaborn as sns\n",
    "\n",
    "\n",
    "while (tuned_model := genai.get_tuned_model(f\"tunedModels/{model_id}\")).state.name != 'ACTIVE':\n",
    "\n",
    "    print(tuned_model.state)\n",
    "    time.sleep(60)\n",
    "\n",
    "print(f\"Done! The model is {tuned_model.state.name}\")\n",
    "\n",
    "# Plot the loss curve.\n",
    "snapshots = pd.DataFrame(tuned_model.tuning_task.snapshots)\n",
    "sns.lineplot(data=snapshots, x=\"step\", y=\"mean_loss\")\n"
   ]
  },
  {
   "cell_type": "markdown",
   "id": "33182c73",
   "metadata": {
    "id": "9-qiIdK4u80z",
    "papermill": {
     "duration": 0.010265,
     "end_time": "2024-11-21T21:52:35.489600",
     "exception": false,
     "start_time": "2024-11-21T21:52:35.479335",
     "status": "completed"
    },
    "tags": []
   },
   "source": [
    "Note that the `seaborn` module may output warnings containing `FutureWarning: use_inf_as_na option is deprecated`. These are expected and can be ignored."
   ]
  },
  {
   "cell_type": "markdown",
   "id": "c92fc45f",
   "metadata": {
    "id": "9-qiIdK4u80z",
    "papermill": {
     "duration": 0.010033,
     "end_time": "2024-11-21T21:52:35.510003",
     "exception": false,
     "start_time": "2024-11-21T21:52:35.499970",
     "status": "completed"
    },
    "tags": []
   },
   "source": [
    "## Use the new model\n",
    "\n",
    "Now that you have a tuned model, try it out with custom data. You use the same API as a normal Gemini API interaction, but you specify your new model as the model name, using the `tunedModels/` prefix."
   ]
  },
  {
   "cell_type": "code",
   "execution_count": 19,
   "id": "4c5ad10e",
   "metadata": {
    "execution": {
     "iopub.execute_input": "2024-11-21T21:52:35.534382Z",
     "iopub.status.busy": "2024-11-21T21:52:35.533285Z",
     "iopub.status.idle": "2024-11-21T21:52:39.449388Z",
     "shell.execute_reply": "2024-11-21T21:52:39.448140Z"
    },
    "id": "hyO2-MXLvM6a",
    "papermill": {
     "duration": 3.931148,
     "end_time": "2024-11-21T21:52:39.451537",
     "exception": false,
     "start_time": "2024-11-21T21:52:35.520389",
     "status": "completed"
    },
    "tags": []
   },
   "outputs": [
    {
     "name": "stdout",
     "output_type": "stream",
     "text": [
      "sci.space\n"
     ]
    }
   ],
   "source": [
    "your_model = genai.GenerativeModel(f\"tunedModels/{model_id}\")\n",
    "\n",
    "new_text = \"\"\"\n",
    "First-timer looking to get out of here.\n",
    "\n",
    "Hi, I'm writing about my interest in travelling to the outer limits!\n",
    "\n",
    "What kind of craft can I buy? What is easiest to access from this 3rd rock?\n",
    "\n",
    "Let me know how to do that please.\n",
    "\"\"\"\n",
    "\n",
    "response = your_model.generate_content(new_text)\n",
    "print(response.text)"
   ]
  },
  {
   "cell_type": "markdown",
   "id": "248b43c1",
   "metadata": {
    "id": "xajLek9DySH_",
    "papermill": {
     "duration": 0.01019,
     "end_time": "2024-11-21T21:52:39.472190",
     "exception": false,
     "start_time": "2024-11-21T21:52:39.462000",
     "status": "completed"
    },
    "tags": []
   },
   "source": [
    "### Evaluation\n",
    "\n",
    "You can see that the model outputs labels that correspond to those in the training data, and without any system instructions or prompting, which is already a great improvement. Now see how well it performs on the test set.\n",
    "\n",
    "Note that there is no parallelism in this example; classifying the test sub-set will take a few minutes."
   ]
  },
  {
   "cell_type": "code",
   "execution_count": 20,
   "id": "a9095b04",
   "metadata": {
    "execution": {
     "iopub.execute_input": "2024-11-21T21:52:39.495503Z",
     "iopub.status.busy": "2024-11-21T21:52:39.494561Z",
     "iopub.status.idle": "2024-11-21T21:53:55.027351Z",
     "shell.execute_reply": "2024-11-21T21:53:55.026338Z"
    },
    "id": "6T2Y3ZApvbMw",
    "papermill": {
     "duration": 75.546542,
     "end_time": "2024-11-21T21:53:55.029364",
     "exception": false,
     "start_time": "2024-11-21T21:52:39.482822",
     "status": "completed"
    },
    "tags": []
   },
   "outputs": [
    {
     "data": {
      "application/vnd.jupyter.widget-view+json": {
       "model_id": "5dd4715098f54fa081c07d6320f59dd5",
       "version_major": 2,
       "version_minor": 0
      },
      "text/plain": [
       "Output()"
      ]
     },
     "metadata": {},
     "output_type": "display_data"
    },
    {
     "name": "stderr",
     "output_type": "stream",
     "text": [
      "/opt/conda/lib/python3.10/site-packages/tqdm/std.py:885: TqdmExperimentalWarning: rich is experimental/alpha\n",
      "  t = cls(total=total, **tqdm_kwargs)\n"
     ]
    },
    {
     "data": {
      "text/html": [
       "<pre style=\"white-space:pre;overflow-x:auto;line-height:normal;font-family:Menlo,'DejaVu Sans Mono',consolas,'Courier New',monospace\"></pre>\n"
      ],
      "text/plain": []
     },
     "metadata": {},
     "output_type": "display_data"
    },
    {
     "data": {
      "text/html": [
       "<pre style=\"white-space:pre;overflow-x:auto;line-height:normal;font-family:Menlo,'DejaVu Sans Mono',consolas,'Courier New',monospace\">\n",
       "</pre>\n"
      ],
      "text/plain": [
       "\n"
      ]
     },
     "metadata": {},
     "output_type": "display_data"
    },
    {
     "name": "stdout",
     "output_type": "stream",
     "text": [
      "Accuracy: 96.88%\n"
     ]
    }
   ],
   "source": [
    "def classify_text(text: str) -> str:\n",
    "    \"\"\"Classify the provided text into a known newsgroup.\"\"\"\n",
    "    response = your_model.generate_content(text, request_options=retry_policy)\n",
    "    rc = response.candidates[0]\n",
    "\n",
    "    # Any errors, filters, recitation, etc we can mark as a general error\n",
    "    if rc.finish_reason.name != \"STOP\":\n",
    "        return \"(error)\"\n",
    "    else:\n",
    "        return rc.content.parts[0].text\n",
    "\n",
    "\n",
    "# The sampling here is just to minimise your quota usage. If you can, you should\n",
    "# evaluate the whole test set with `df_model_eval = df_test.copy()`.\n",
    "df_model_eval = sample_data(df_test, 4, '.*')\n",
    "\n",
    "\n",
    "df_model_eval[\"Prediction\"] = df_model_eval[\"Text\"].progress_apply(classify_text)\n",
    "\n",
    "accuracy = (df_model_eval[\"Class Name\"] == df_model_eval[\"Prediction\"]).sum() / len(df_model_eval)\n",
    "print(f\"Accuracy: {accuracy:.2%}\")"
   ]
  },
  {
   "cell_type": "markdown",
   "id": "53d8f51c",
   "metadata": {
    "papermill": {
     "duration": 0.014721,
     "end_time": "2024-11-21T21:53:55.060118",
     "exception": false,
     "start_time": "2024-11-21T21:53:55.045397",
     "status": "completed"
    },
    "tags": []
   },
   "source": [
    "## Compare token usage\n",
    "\n",
    "AI Studio and the Gemini API provide model tuning at no cost, however normal limits and charges apply for *use* of a tuned model.\n",
    "\n",
    "The size of the input prompt and other generation config like system instructions, as well as the number of generated output tokens, all contribute to the overall cost of a request."
   ]
  },
  {
   "cell_type": "code",
   "execution_count": 21,
   "id": "a15069fa",
   "metadata": {
    "execution": {
     "iopub.execute_input": "2024-11-21T21:53:57.078647Z",
     "iopub.status.busy": "2024-11-21T21:53:57.078371Z",
     "iopub.status.idle": "2024-11-21T21:53:57.263237Z",
     "shell.execute_reply": "2024-11-21T21:53:57.262153Z"
    },
    "papermill": {
     "duration": 2.190708,
     "end_time": "2024-11-21T21:53:57.265472",
     "exception": false,
     "start_time": "2024-11-21T21:53:55.074764",
     "status": "completed"
    },
    "tags": []
   },
   "outputs": [
    {
     "name": "stdout",
     "output_type": "stream",
     "text": [
      "System instructed baseline model: 171 (input)\n",
      "Tuned model: 135 (input)\n",
      "Token savings: 26.67%\n"
     ]
    }
   ],
   "source": [
    "# Calculate the *input* cost of the baseline model with system instructions.\n",
    "sysint_tokens = instructed_model.count_tokens(sample_row).total_tokens\n",
    "print(f'System instructed baseline model: {sysint_tokens} (input)')\n",
    "\n",
    "# Calculate the input cost of the tuned model.\n",
    "tuned_tokens = your_model.count_tokens(sample_row).total_tokens\n",
    "print(f'Tuned model: {tuned_tokens} (input)')\n",
    "\n",
    "savings = (sysint_tokens - tuned_tokens) / tuned_tokens\n",
    "print(f'Token savings: {savings:.2%}')  # Note that this is only n=1."
   ]
  },
  {
   "cell_type": "markdown",
   "id": "bc30bc23",
   "metadata": {
    "papermill": {
     "duration": 0.010726,
     "end_time": "2024-11-21T21:53:57.287490",
     "exception": false,
     "start_time": "2024-11-21T21:53:57.276764",
     "status": "completed"
    },
    "tags": []
   },
   "source": [
    "The earlier verbose model also produced more output tokens than needed for this task."
   ]
  },
  {
   "cell_type": "code",
   "execution_count": 22,
   "id": "0c6f072a",
   "metadata": {
    "execution": {
     "iopub.execute_input": "2024-11-21T21:53:57.310835Z",
     "iopub.status.busy": "2024-11-21T21:53:57.310456Z",
     "iopub.status.idle": "2024-11-21T21:53:58.201201Z",
     "shell.execute_reply": "2024-11-21T21:53:58.200118Z"
    },
    "papermill": {
     "duration": 0.905063,
     "end_time": "2024-11-21T21:53:58.203417",
     "exception": false,
     "start_time": "2024-11-21T21:53:57.298354",
     "status": "completed"
    },
    "tags": []
   },
   "outputs": [
    {
     "name": "stdout",
     "output_type": "stream",
     "text": [
      "Baseline (verbose) output tokens: 119\n",
      "Tuned output tokens: 3\n"
     ]
    }
   ],
   "source": [
    "baseline_token_output = baseline_response.usage_metadata.candidates_token_count\n",
    "print('Baseline (verbose) output tokens:', baseline_token_output)\n",
    "\n",
    "tuned_model_output = your_model.generate_content(sample_row)\n",
    "tuned_tokens_output = tuned_model_output.usage_metadata.candidates_token_count\n",
    "print('Tuned output tokens:', tuned_tokens_output)"
   ]
  },
  {
   "cell_type": "markdown",
   "id": "a812d924",
   "metadata": {
    "id": "6c1204a5d0ab",
    "papermill": {
     "duration": 0.010756,
     "end_time": "2024-11-21T21:53:58.225337",
     "exception": false,
     "start_time": "2024-11-21T21:53:58.214581",
     "status": "completed"
    },
    "tags": []
   },
   "source": [
    "## Next steps\n",
    "\n",
    "Now that you have tuned a classification model, try some other tasks, like tuning a model to respond with a specific tone or style using hand-written examples (or even generated examples!). Kaggle hosts [a number of datasets](https://www.kaggle.com/datasets) you can try out.\n",
    "\n",
    "Learn about [when supervised fine-tuning is most effective](https://cloud.google.com/blog/products/ai-machine-learning/supervised-fine-tuning-for-gemini-llm).\n",
    "\n",
    "And check out the [fine-tuning tutorial](https://ai.google.dev/gemini-api/docs/model-tuning/tutorial?hl=en&lang=python) for another example that shows a tuned model extending beyond the training data to new, unseen inputs."
   ]
  }
 ],
 "metadata": {
  "colab": {
   "name": "day-4-fine-tuning-a-custom-model.ipynb",
   "toc_visible": true
  },
  "kaggle": {
   "accelerator": "none",
   "dataSources": [],
   "dockerImageVersionId": 30786,
   "isGpuEnabled": false,
   "isInternetEnabled": true,
   "language": "python",
   "sourceType": "notebook"
  },
  "kernelspec": {
   "display_name": "Python 3",
   "language": "python",
   "name": "python3"
  },
  "language_info": {
   "codemirror_mode": {
    "name": "ipython",
    "version": 3
   },
   "file_extension": ".py",
   "mimetype": "text/x-python",
   "name": "python",
   "nbconvert_exporter": "python",
   "pygments_lexer": "ipython3",
   "version": "3.10.14"
  },
  "papermill": {
   "default_parameters": {},
   "duration": 492.186242,
   "end_time": "2024-11-21T21:53:59.058180",
   "environment_variables": {},
   "exception": null,
   "input_path": "__notebook__.ipynb",
   "output_path": "__notebook__.ipynb",
   "parameters": {},
   "start_time": "2024-11-21T21:45:46.871938",
   "version": "2.6.0"
  },
  "widgets": {
   "application/vnd.jupyter.widget-state+json": {
    "state": {
     "417384cb67394499ae52a432b55b180b": {
      "model_module": "@jupyter-widgets/base",
      "model_module_version": "1.2.0",
      "model_name": "LayoutModel",
      "state": {
       "_model_module": "@jupyter-widgets/base",
       "_model_module_version": "1.2.0",
       "_model_name": "LayoutModel",
       "_view_count": null,
       "_view_module": "@jupyter-widgets/base",
       "_view_module_version": "1.2.0",
       "_view_name": "LayoutView",
       "align_content": null,
       "align_items": null,
       "align_self": null,
       "border": null,
       "bottom": null,
       "display": null,
       "flex": null,
       "flex_flow": null,
       "grid_area": null,
       "grid_auto_columns": null,
       "grid_auto_flow": null,
       "grid_auto_rows": null,
       "grid_column": null,
       "grid_gap": null,
       "grid_row": null,
       "grid_template_areas": null,
       "grid_template_columns": null,
       "grid_template_rows": null,
       "height": null,
       "justify_content": null,
       "justify_items": null,
       "left": null,
       "margin": null,
       "max_height": null,
       "max_width": null,
       "min_height": null,
       "min_width": null,
       "object_fit": null,
       "object_position": null,
       "order": null,
       "overflow": null,
       "overflow_x": null,
       "overflow_y": null,
       "padding": null,
       "right": null,
       "top": null,
       "visibility": null,
       "width": null
      }
     },
     "5dd4715098f54fa081c07d6320f59dd5": {
      "model_module": "@jupyter-widgets/output",
      "model_module_version": "1.0.0",
      "model_name": "OutputModel",
      "state": {
       "_dom_classes": [],
       "_model_module": "@jupyter-widgets/output",
       "_model_module_version": "1.0.0",
       "_model_name": "OutputModel",
       "_view_count": null,
       "_view_module": "@jupyter-widgets/output",
       "_view_module_version": "1.0.0",
       "_view_name": "OutputView",
       "layout": "IPY_MODEL_417384cb67394499ae52a432b55b180b",
       "msg_id": "",
       "outputs": [
        {
         "data": {
          "text/html": "<pre style=\"white-space:pre;overflow-x:auto;line-height:normal;font-family:Menlo,'DejaVu Sans Mono',consolas,'Courier New',monospace\"><span style=\"color: #800080; text-decoration-color: #800080\"> 100%</span> <span style=\"color: #729c1f; text-decoration-color: #729c1f\">━━━━━━━━━━━━━━━━━━━━━━━━━━━━━━━━━━━━━━━━━━━━━━━━━━━━━━━━━━━━━━━━━━━━━━━</span> <span style=\"color: #008000; text-decoration-color: #008000\">32/32 </span> [ <span style=\"color: #808000; text-decoration-color: #808000\">0:01:14</span> &lt; <span style=\"color: #008080; text-decoration-color: #008080\">0:00:00</span> , <span style=\"color: #800000; text-decoration-color: #800000\">1 it/s</span> ]\n</pre>\n",
          "text/plain": "\u001b[35m 100%\u001b[0m \u001b[38;2;114;156;31m━━━━━━━━━━━━━━━━━━━━━━━━━━━━━━━━━━━━━━━━━━━━━━━━━━━━━━━━━━━━━━━━━━━━━━━\u001b[0m \u001b[32m32/32 \u001b[0m [ \u001b[33m0:01:14\u001b[0m < \u001b[36m0:00:00\u001b[0m , \u001b[31m1 it/s\u001b[0m ]\n"
         },
         "metadata": {},
         "output_type": "display_data"
        }
       ]
      }
     },
     "d457818d22d341e49631c51fae711fd5": {
      "model_module": "@jupyter-widgets/base",
      "model_module_version": "1.2.0",
      "model_name": "LayoutModel",
      "state": {
       "_model_module": "@jupyter-widgets/base",
       "_model_module_version": "1.2.0",
       "_model_name": "LayoutModel",
       "_view_count": null,
       "_view_module": "@jupyter-widgets/base",
       "_view_module_version": "1.2.0",
       "_view_name": "LayoutView",
       "align_content": null,
       "align_items": null,
       "align_self": null,
       "border": null,
       "bottom": null,
       "display": null,
       "flex": null,
       "flex_flow": null,
       "grid_area": null,
       "grid_auto_columns": null,
       "grid_auto_flow": null,
       "grid_auto_rows": null,
       "grid_column": null,
       "grid_gap": null,
       "grid_row": null,
       "grid_template_areas": null,
       "grid_template_columns": null,
       "grid_template_rows": null,
       "height": null,
       "justify_content": null,
       "justify_items": null,
       "left": null,
       "margin": null,
       "max_height": null,
       "max_width": null,
       "min_height": null,
       "min_width": null,
       "object_fit": null,
       "object_position": null,
       "order": null,
       "overflow": null,
       "overflow_x": null,
       "overflow_y": null,
       "padding": null,
       "right": null,
       "top": null,
       "visibility": null,
       "width": null
      }
     },
     "f64f04e1d52b456bbed5130378f435a7": {
      "model_module": "@jupyter-widgets/output",
      "model_module_version": "1.0.0",
      "model_name": "OutputModel",
      "state": {
       "_dom_classes": [],
       "_model_module": "@jupyter-widgets/output",
       "_model_module_version": "1.0.0",
       "_model_name": "OutputModel",
       "_view_count": null,
       "_view_module": "@jupyter-widgets/output",
       "_view_module_version": "1.0.0",
       "_view_name": "OutputView",
       "layout": "IPY_MODEL_d457818d22d341e49631c51fae711fd5",
       "msg_id": "",
       "outputs": [
        {
         "data": {
          "text/html": "<pre style=\"white-space:pre;overflow-x:auto;line-height:normal;font-family:Menlo,'DejaVu Sans Mono',consolas,'Courier New',monospace\"><span style=\"color: #800080; text-decoration-color: #800080\"> 100%</span> <span style=\"color: #729c1f; text-decoration-color: #729c1f\">━━━━━━━━━━━━━━━━━━━━━━━━━━━━━━━━━━━━━━━━━━━━━━━━━━━━━━━━━━━━━━━━━━━━━━━</span> <span style=\"color: #008000; text-decoration-color: #008000\">16/16 </span> [ <span style=\"color: #808000; text-decoration-color: #808000\">0:00:55</span> &lt; <span style=\"color: #008080; text-decoration-color: #008080\">0:00:00</span> , <span style=\"color: #800000; text-decoration-color: #800000\">? it/s</span> ]\n</pre>\n",
          "text/plain": "\u001b[35m 100%\u001b[0m \u001b[38;2;114;156;31m━━━━━━━━━━━━━━━━━━━━━━━━━━━━━━━━━━━━━━━━━━━━━━━━━━━━━━━━━━━━━━━━━━━━━━━\u001b[0m \u001b[32m16/16 \u001b[0m [ \u001b[33m0:00:55\u001b[0m < \u001b[36m0:00:00\u001b[0m , \u001b[31m? it/s\u001b[0m ]\n"
         },
         "metadata": {},
         "output_type": "display_data"
        }
       ]
      }
     }
    },
    "version_major": 2,
    "version_minor": 0
   }
  }
 },
 "nbformat": 4,
 "nbformat_minor": 5
}
