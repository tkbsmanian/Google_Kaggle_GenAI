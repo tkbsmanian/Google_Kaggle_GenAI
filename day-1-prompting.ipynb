{
 "cells": [
  {
   "cell_type": "markdown",
   "id": "0b408bc5",
   "metadata": {
    "id": "jkxRSYjzA1oX",
    "papermill": {
     "duration": 0.011652,
     "end_time": "2024-11-20T22:01:22.918422",
     "exception": false,
     "start_time": "2024-11-20T22:01:22.906770",
     "status": "completed"
    },
    "tags": []
   },
   "source": [
    "##### Copyright 2024 Google LLC."
   ]
  },
  {
   "cell_type": "code",
   "execution_count": 1,
   "id": "c6975b88",
   "metadata": {
    "cellView": "form",
    "execution": {
     "iopub.execute_input": "2024-11-20T22:01:22.943253Z",
     "iopub.status.busy": "2024-11-20T22:01:22.942849Z",
     "iopub.status.idle": "2024-11-20T22:01:22.948316Z",
     "shell.execute_reply": "2024-11-20T22:01:22.947528Z"
    },
    "id": "5u5OZ2ShA3BA",
    "jupyter": {
     "source_hidden": true
    },
    "papermill": {
     "duration": 0.020129,
     "end_time": "2024-11-20T22:01:22.950155",
     "exception": false,
     "start_time": "2024-11-20T22:01:22.930026",
     "status": "completed"
    },
    "tags": []
   },
   "outputs": [],
   "source": [
    "# @title Licensed under the Apache License, Version 2.0 (the \"License\");\n",
    "# you may not use this file except in compliance with the License.\n",
    "# You may obtain a copy of the License at\n",
    "#\n",
    "# https://www.apache.org/licenses/LICENSE-2.0\n",
    "#\n",
    "# Unless required by applicable law or agreed to in writing, software\n",
    "# distributed under the License is distributed on an \"AS IS\" BASIS,\n",
    "# WITHOUT WARRANTIES OR CONDITIONS OF ANY KIND, either express or implied.\n",
    "# See the License for the specific language governing permissions and\n",
    "# limitations under the License."
   ]
  },
  {
   "cell_type": "markdown",
   "id": "a0535a35",
   "metadata": {
    "id": "csNPnkuCobmG",
    "papermill": {
     "duration": 0.010375,
     "end_time": "2024-11-20T22:01:22.971201",
     "exception": false,
     "start_time": "2024-11-20T22:01:22.960826",
     "status": "completed"
    },
    "tags": []
   },
   "source": [
    "# Day 1 - Prompting\n",
    "\n",
    "Welcome to the Kaggle 5-day Generative AI course!\n",
    "\n",
    "This notebook will show you how to get started with the Gemini API and walk you through some of the example prompts and techniques that you can also read about in the Prompting whitepaper. You don't need to read the whitepaper to use this notebook, but the papers will give you some theoretical context and background to complement this interactive notebook.\n",
    "\n",
    "\n",
    "## Before you begin\n",
    "\n",
    "In this notebook, you'll start exploring prompts and prompt parameters using the Python SDK and AI Studio. For some inspiration, you might enjoy exploring some apps that have been built using the Gemini family of models. Here are a few that we like, and we think you will too.\n",
    "\n",
    "* [TextFX](https://textfx.withgoogle.com/) is a suite of AI-powered tools for rappers, made in collaboration with Lupe Fiasco,\n",
    "* [SQL Talk](https://sql-talk-r5gdynozbq-uc.a.run.app/) shows how you can talk directly to a database using the Gemini API,\n",
    "* [NotebookLM](https://notebooklm.google/) uses Gemini models to build your own personal AI research assistant.\n",
    "\n",
    "\n",
    "## For help\n",
    "\n",
    "**Common issues are covered in the [FAQ and troubleshooting guide](https://www.kaggle.com/code/markishere/day-0-troubleshooting-and-faqs).**\n",
    "\n",
    "### A note on the Gemini API and Vertex AI\n",
    "\n",
    "In the whitepapers, most of the example code uses the Enterprise [Vertex AI platform](https://cloud.google.com/vertex-ai). In contrast, this notebook, along with the others in this series, will use the [Gemini Developer API](https://ai.google.dev/gemini-api/) and [AI Studio](https://aistudio.google.com/).\n",
    "\n",
    "Both APIs provide access to the Gemini family of models, and the code to interact with the models is very similar. Vertex provides a world-class platform for enterprises, governments and advanced users that need powerful features like data governance, ML ops and deep Google Cloud integration.\n",
    "\n",
    "AI Studio is free to use and only requires a compatible Google account to log in and get started. It is deeply integrated with the Gemini API, which comes with a generous [free tier](https://ai.google.dev/pricing) that you can use to run the code in these exercises.\n",
    "\n",
    "If you are already set up with Google Cloud, you can check out the [Enterprise Gemini API](https://cloud.google.com/vertex-ai/generative-ai/docs/model-reference/inference) through Vertex AI, and run the samples directly from the supplied whitepapers."
   ]
  },
  {
   "cell_type": "markdown",
   "id": "bf879bed",
   "metadata": {
    "id": "f00ea7c99e44",
    "papermill": {
     "duration": 0.010126,
     "end_time": "2024-11-20T22:01:22.991940",
     "exception": false,
     "start_time": "2024-11-20T22:01:22.981814",
     "status": "completed"
    },
    "tags": []
   },
   "source": [
    "## Get started with Kaggle notebooks\n",
    "\n",
    "If this is your first time using a Kaggle notebook, welcome! You can read about how to use Kaggle notebooks [in the docs](https://www.kaggle.com/docs/notebooks).\n",
    "\n",
    "First, you will need to phone verify your account at kaggle.com/settings.\n",
    "\n",
    "![](https://storage.googleapis.com/kaggle-media/Images/5dgai_0.png)"
   ]
  },
  {
   "cell_type": "markdown",
   "id": "999f212e",
   "metadata": {
    "papermill": {
     "duration": 0.010133,
     "end_time": "2024-11-20T22:01:23.012315",
     "exception": false,
     "start_time": "2024-11-20T22:01:23.002182",
     "status": "completed"
    },
    "tags": []
   },
   "source": [
    "To run this notebook, as well as the others in this course, you will need to make a copy, or fork, the notebook. Look for the `Copy and Edit` button in the top-right, and **click it** to make an editable, private copy of the notebook. It should look like this one:\n",
    "\n",
    "![Copy and Edit button](https://storage.googleapis.com/kaggle-media/Images/5gdai_sc_1.png)\n",
    "\n",
    "Your copy will now have a ▶️ **Run** button next to each code cell that you can press to execute that cell. These notebooks are expected to be run in order from top-to-bottom, but you are encouraged to add new cells, run your own code and explore. If you get stuck, you can try the `Factory reset` option in the `Run` menu, or head back to the original notebook and make a fresh copy.\n",
    "\n",
    "![Run cell button](https://storage.googleapis.com/kaggle-media/Images/5gdai_sc_2.png)\n",
    "\n",
    "### Problems?\n",
    "\n",
    "If you have any problems, head over to the [Kaggle Discord](https://discord.com/invite/kaggle), find the [`#5dgai-q-and-a` channel](https://discord.com/channels/1101210829807956100/1303438695143178251) and ask for help."
   ]
  },
  {
   "cell_type": "markdown",
   "id": "d3909e1e",
   "metadata": {
    "id": "ExkOXcPxtTb5",
    "papermill": {
     "duration": 0.009852,
     "end_time": "2024-11-20T22:01:23.032607",
     "exception": false,
     "start_time": "2024-11-20T22:01:23.022755",
     "status": "completed"
    },
    "tags": []
   },
   "source": [
    "## Get started with the Gemini API\n",
    "\n",
    "All of the exercises in this notebook will use the [Gemini API](https://ai.google.dev/gemini-api/) by way of the [Python SDK](https://pypi.org/project/google-generativeai/). Each of these prompts can be accessed directly in [Google AI Studio](https://aistudio.google.com/) too, so if you would rather use a web interface and skip the code for this activity, look for the <img src=\"https://ai.google.dev/site-assets/images/marketing/home/icon-ais.png\" style=\"height: 24px\" height=24/> AI Studio link on each prompt."
   ]
  },
  {
   "cell_type": "markdown",
   "id": "a9c12728",
   "metadata": {
    "papermill": {
     "duration": 0.010078,
     "end_time": "2024-11-20T22:01:23.052878",
     "exception": false,
     "start_time": "2024-11-20T22:01:23.042800",
     "status": "completed"
    },
    "tags": []
   },
   "source": [
    "Next, you will need to add your API key to your Kaggle Notebook as a Kaggle User Secret.\n",
    "\n",
    "![](https://storage.googleapis.com/kaggle-media/Images/5dgai_1.png)\n",
    "![](https://storage.googleapis.com/kaggle-media/Images/5dgai_2.png)\n",
    "![](https://storage.googleapis.com/kaggle-media/Images/5dgai_3.png)\n",
    "![](https://storage.googleapis.com/kaggle-media/Images/5dgai_4.png)"
   ]
  },
  {
   "cell_type": "markdown",
   "id": "0c503af2",
   "metadata": {
    "id": "UAjUV3BsvFXQ",
    "papermill": {
     "duration": 0.010004,
     "end_time": "2024-11-20T22:01:23.073251",
     "exception": false,
     "start_time": "2024-11-20T22:01:23.063247",
     "status": "completed"
    },
    "tags": []
   },
   "source": [
    "### Install the SDK"
   ]
  },
  {
   "cell_type": "code",
   "execution_count": 2,
   "id": "95001d0a",
   "metadata": {
    "execution": {
     "iopub.execute_input": "2024-11-20T22:01:23.095686Z",
     "iopub.status.busy": "2024-11-20T22:01:23.094889Z",
     "iopub.status.idle": "2024-11-20T22:01:47.368263Z",
     "shell.execute_reply": "2024-11-20T22:01:47.366810Z"
    },
    "id": "NzwzJFU9LqkJ",
    "papermill": {
     "duration": 24.287194,
     "end_time": "2024-11-20T22:01:47.370577",
     "exception": false,
     "start_time": "2024-11-20T22:01:23.083383",
     "status": "completed"
    },
    "tags": []
   },
   "outputs": [
    {
     "name": "stdout",
     "output_type": "stream",
     "text": [
      "Note: you may need to restart the kernel to use updated packages.\n"
     ]
    }
   ],
   "source": [
    "%pip install -U -q \"google-generativeai>=0.8.3\""
   ]
  },
  {
   "cell_type": "markdown",
   "id": "b9e491d2",
   "metadata": {
    "papermill": {
     "duration": 0.010122,
     "end_time": "2024-11-20T22:01:47.391241",
     "exception": false,
     "start_time": "2024-11-20T22:01:47.381119",
     "status": "completed"
    },
    "tags": []
   },
   "source": [
    "You do not need to restart the kernel."
   ]
  },
  {
   "cell_type": "code",
   "execution_count": 3,
   "id": "62bb5068",
   "metadata": {
    "execution": {
     "iopub.execute_input": "2024-11-20T22:01:47.414578Z",
     "iopub.status.busy": "2024-11-20T22:01:47.413561Z",
     "iopub.status.idle": "2024-11-20T22:01:48.382527Z",
     "shell.execute_reply": "2024-11-20T22:01:48.381729Z"
    },
    "id": "5DwxYIRavMST",
    "papermill": {
     "duration": 0.983026,
     "end_time": "2024-11-20T22:01:48.384788",
     "exception": false,
     "start_time": "2024-11-20T22:01:47.401762",
     "status": "completed"
    },
    "tags": []
   },
   "outputs": [],
   "source": [
    "import google.generativeai as genai\n",
    "from IPython.display import HTML, Markdown, display"
   ]
  },
  {
   "cell_type": "markdown",
   "id": "9fd9c31f",
   "metadata": {
    "id": "DNEt2BCOvOJ1",
    "papermill": {
     "duration": 0.010224,
     "end_time": "2024-11-20T22:01:48.405762",
     "exception": false,
     "start_time": "2024-11-20T22:01:48.395538",
     "status": "completed"
    },
    "tags": []
   },
   "source": [
    "### Set up your API key\n",
    "\n",
    "To run the following cell, your API key must be stored it in a [Kaggle secret](https://www.kaggle.com/discussions/product-feedback/114053) named `GOOGLE_API_KEY`.\n",
    "\n",
    "If you don't already have an API key, you can grab one from [AI Studio](https://aistudio.google.com/app/apikey). You can find [detailed instructions in the docs](https://ai.google.dev/gemini-api/docs/api-key).\n",
    "\n",
    "To make the key available through Kaggle secrets, choose `Secrets` from the `Add-ons` menu and follow the instructions to add your key or enable it for this notebook."
   ]
  },
  {
   "cell_type": "code",
   "execution_count": 4,
   "id": "28b50821",
   "metadata": {
    "execution": {
     "iopub.execute_input": "2024-11-20T22:01:48.428743Z",
     "iopub.status.busy": "2024-11-20T22:01:48.427648Z",
     "iopub.status.idle": "2024-11-20T22:01:48.569207Z",
     "shell.execute_reply": "2024-11-20T22:01:48.568409Z"
    },
    "id": "SHl0bkPCvayd",
    "papermill": {
     "duration": 0.155382,
     "end_time": "2024-11-20T22:01:48.571505",
     "exception": false,
     "start_time": "2024-11-20T22:01:48.416123",
     "status": "completed"
    },
    "tags": []
   },
   "outputs": [],
   "source": [
    "from kaggle_secrets import UserSecretsClient\n",
    "\n",
    "GOOGLE_API_KEY = UserSecretsClient().get_secret(\"GOOGLE_API_KEY\")\n",
    "genai.configure(api_key=GOOGLE_API_KEY)"
   ]
  },
  {
   "cell_type": "markdown",
   "id": "953ca066",
   "metadata": {
    "id": "4e720472fd86",
    "papermill": {
     "duration": 0.010238,
     "end_time": "2024-11-20T22:01:48.592478",
     "exception": false,
     "start_time": "2024-11-20T22:01:48.582240",
     "status": "completed"
    },
    "tags": []
   },
   "source": [
    "If you received an error response along the lines of `No user secrets exist for kernel id ...`, then you need to add your API key via `Add-ons`, `Secrets` **and** enable it.\n",
    "\n",
    "![Screenshot of the checkbox to enable GOOGLE_API_KEY secret](https://storage.googleapis.com/kaggle-media/Images/5gdai_sc_3.png)"
   ]
  },
  {
   "cell_type": "markdown",
   "id": "4b71c57a",
   "metadata": {
    "id": "H_YXCYIKvyZJ",
    "papermill": {
     "duration": 0.010206,
     "end_time": "2024-11-20T22:01:48.613203",
     "exception": false,
     "start_time": "2024-11-20T22:01:48.602997",
     "status": "completed"
    },
    "tags": []
   },
   "source": [
    "### Run your first prompt\n",
    "\n",
    "In this step, you will test that your API key is set up correctly by making a request. The `gemini-1.5-flash` model has been selected here."
   ]
  },
  {
   "cell_type": "code",
   "execution_count": 5,
   "id": "1150ce6c",
   "metadata": {
    "execution": {
     "iopub.execute_input": "2024-11-20T22:01:48.635883Z",
     "iopub.status.busy": "2024-11-20T22:01:48.635127Z",
     "iopub.status.idle": "2024-11-20T22:01:50.585835Z",
     "shell.execute_reply": "2024-11-20T22:01:50.584610Z"
    },
    "id": "BV1o0PmcvyJF",
    "papermill": {
     "duration": 1.964597,
     "end_time": "2024-11-20T22:01:50.588019",
     "exception": false,
     "start_time": "2024-11-20T22:01:48.623422",
     "status": "completed"
    },
    "tags": []
   },
   "outputs": [
    {
     "name": "stdout",
     "output_type": "stream",
     "text": [
      "Imagine you have a really smart puppy.  You teach it tricks, like \"sit\" and \"fetch.\"  At first, the puppy doesn't know what those words mean, but you show it, and it learns.  It makes mistakes at first, but slowly gets better and better.\n",
      "\n",
      "Artificial Intelligence, or AI, is like teaching a computer to be that smart puppy.  Instead of tricks, we teach computers to do things like:\n",
      "\n",
      "* **Recognize pictures:**  Like knowing the difference between a cat and a dog in a photo.\n",
      "* **Understand speech:** Like understanding what you're saying when you ask it a question.\n",
      "* **Play games:** Like playing chess or even video games better than you!\n",
      "* **Solve problems:** Like figuring out the fastest way to get from your house to school.\n",
      "\n",
      "We do this by giving the computer lots and lots of information and teaching it rules to follow.  It's not really \"thinking\" like you and me, but it can learn to do amazing things by following those rules and learning from its mistakes.  It's like a super-powered puppy that gets smarter and smarter over time!\n",
      "\n"
     ]
    }
   ],
   "source": [
    "flash = genai.GenerativeModel('gemini-1.5-flash')\n",
    "response = flash.generate_content(\"Explain AI to me like I'm a kid.\")\n",
    "print(response.text)"
   ]
  },
  {
   "cell_type": "markdown",
   "id": "cbc278f8",
   "metadata": {
    "id": "f60ed9d8ae41",
    "papermill": {
     "duration": 0.010462,
     "end_time": "2024-11-20T22:01:50.609318",
     "exception": false,
     "start_time": "2024-11-20T22:01:50.598856",
     "status": "completed"
    },
    "tags": []
   },
   "source": [
    "The response often comes back in markdown format, which you can render directly in this notebook."
   ]
  },
  {
   "cell_type": "code",
   "execution_count": 6,
   "id": "3eec0683",
   "metadata": {
    "execution": {
     "iopub.execute_input": "2024-11-20T22:01:50.632538Z",
     "iopub.status.busy": "2024-11-20T22:01:50.632152Z",
     "iopub.status.idle": "2024-11-20T22:01:50.640095Z",
     "shell.execute_reply": "2024-11-20T22:01:50.638943Z"
    },
    "id": "c933e5e460a5",
    "papermill": {
     "duration": 0.021818,
     "end_time": "2024-11-20T22:01:50.642029",
     "exception": false,
     "start_time": "2024-11-20T22:01:50.620211",
     "status": "completed"
    },
    "tags": []
   },
   "outputs": [
    {
     "data": {
      "text/markdown": [
       "Imagine you have a really smart puppy.  You teach it tricks, like \"sit\" and \"fetch.\"  At first, the puppy doesn't know what those words mean, but you show it, and it learns.  It makes mistakes at first, but slowly gets better and better.\n",
       "\n",
       "Artificial Intelligence, or AI, is like teaching a computer to be that smart puppy.  Instead of tricks, we teach computers to do things like:\n",
       "\n",
       "* **Recognize pictures:**  Like knowing the difference between a cat and a dog in a photo.\n",
       "* **Understand speech:** Like understanding what you're saying when you ask it a question.\n",
       "* **Play games:** Like playing chess or even video games better than you!\n",
       "* **Solve problems:** Like figuring out the fastest way to get from your house to school.\n",
       "\n",
       "We do this by giving the computer lots and lots of information and teaching it rules to follow.  It's not really \"thinking\" like you and me, but it can learn to do amazing things by following those rules and learning from its mistakes.  It's like a super-powered puppy that gets smarter and smarter over time!\n"
      ],
      "text/plain": [
       "<IPython.core.display.Markdown object>"
      ]
     },
     "execution_count": 6,
     "metadata": {},
     "output_type": "execute_result"
    }
   ],
   "source": [
    "Markdown(response.text)"
   ]
  },
  {
   "cell_type": "markdown",
   "id": "2e686ccb",
   "metadata": {
    "id": "byx0pT9ZMW2Q",
    "papermill": {
     "duration": 0.010664,
     "end_time": "2024-11-20T22:01:50.663892",
     "exception": false,
     "start_time": "2024-11-20T22:01:50.653228",
     "status": "completed"
    },
    "tags": []
   },
   "source": [
    "### Start a chat\n",
    "\n",
    "The previous example uses a single-turn, text-in/text-out structure, but you can also set up a multi-turn chat structure too."
   ]
  },
  {
   "cell_type": "code",
   "execution_count": 7,
   "id": "0be2ae23",
   "metadata": {
    "execution": {
     "iopub.execute_input": "2024-11-20T22:01:50.687225Z",
     "iopub.status.busy": "2024-11-20T22:01:50.686835Z",
     "iopub.status.idle": "2024-11-20T22:01:51.576608Z",
     "shell.execute_reply": "2024-11-20T22:01:51.575493Z"
    },
    "id": "lV_S5ZL5MidD",
    "papermill": {
     "duration": 0.904104,
     "end_time": "2024-11-20T22:01:51.578839",
     "exception": false,
     "start_time": "2024-11-20T22:01:50.674735",
     "status": "completed"
    },
    "tags": []
   },
   "outputs": [
    {
     "name": "stdout",
     "output_type": "stream",
     "text": [
      "It's nice to meet you, Zlork!  How can I help you today?\n",
      "\n"
     ]
    }
   ],
   "source": [
    "chat = flash.start_chat(history=[])\n",
    "response = chat.send_message('Hello! My name is Zlork.')\n",
    "print(response.text)"
   ]
  },
  {
   "cell_type": "code",
   "execution_count": 8,
   "id": "749e4ba6",
   "metadata": {
    "execution": {
     "iopub.execute_input": "2024-11-20T22:01:51.602539Z",
     "iopub.status.busy": "2024-11-20T22:01:51.602127Z",
     "iopub.status.idle": "2024-11-20T22:01:52.535374Z",
     "shell.execute_reply": "2024-11-20T22:01:52.534149Z"
    },
    "id": "7b0372c3c64a",
    "papermill": {
     "duration": 0.947877,
     "end_time": "2024-11-20T22:01:52.537893",
     "exception": false,
     "start_time": "2024-11-20T22:01:51.590016",
     "status": "completed"
    },
    "tags": []
   },
   "outputs": [
    {
     "name": "stdout",
     "output_type": "stream",
     "text": [
      "Many dinosaurs likely had feathers!  While we often picture them as scaly reptiles,  evidence suggests that many theropod dinosaurs (the group that includes *Tyrannosaurus rex*, but also smaller, more bird-like dinosaurs) were covered in feathers, ranging from simple filaments to complex, flight-capable feathers. This discovery revolutionized our understanding of dinosaur evolution and their relationship to birds.\n",
      "\n"
     ]
    }
   ],
   "source": [
    "response = chat.send_message('Can you tell something interesting about dinosaurs?')\n",
    "print(response.text)"
   ]
  },
  {
   "cell_type": "code",
   "execution_count": 9,
   "id": "de9010cf",
   "metadata": {
    "execution": {
     "iopub.execute_input": "2024-11-20T22:01:52.564025Z",
     "iopub.status.busy": "2024-11-20T22:01:52.563592Z",
     "iopub.status.idle": "2024-11-20T22:01:52.990167Z",
     "shell.execute_reply": "2024-11-20T22:01:52.989078Z"
    },
    "id": "d3f9591392a7",
    "papermill": {
     "duration": 0.441985,
     "end_time": "2024-11-20T22:01:52.992297",
     "exception": false,
     "start_time": "2024-11-20T22:01:52.550312",
     "status": "completed"
    },
    "tags": []
   },
   "outputs": [
    {
     "name": "stdout",
     "output_type": "stream",
     "text": [
      "Yes, your name is Zlork.\n",
      "\n"
     ]
    }
   ],
   "source": [
    "# While you have the `chat` object around, the conversation state\n",
    "# persists. Confirm that by asking if it knows my name.\n",
    "response = chat.send_message('Do you remember what my name is?')\n",
    "print(response.text)"
   ]
  },
  {
   "cell_type": "markdown",
   "id": "9c99ded7",
   "metadata": {
    "id": "2KAjpr1200sW",
    "papermill": {
     "duration": 0.010798,
     "end_time": "2024-11-20T22:01:53.014178",
     "exception": false,
     "start_time": "2024-11-20T22:01:53.003380",
     "status": "completed"
    },
    "tags": []
   },
   "source": [
    "### Choose a model\n",
    "\n",
    "The Gemini API provides access to a number of models from the Gemini model family. Read about the available models and their capabilities on the [model overview page](https://ai.google.dev/gemini-api/docs/models/gemini).\n",
    "\n",
    "In this step you'll use the API to list all of the available models."
   ]
  },
  {
   "cell_type": "code",
   "execution_count": 10,
   "id": "a1c0ee44",
   "metadata": {
    "execution": {
     "iopub.execute_input": "2024-11-20T22:01:53.038148Z",
     "iopub.status.busy": "2024-11-20T22:01:53.037766Z",
     "iopub.status.idle": "2024-11-20T22:01:53.236092Z",
     "shell.execute_reply": "2024-11-20T22:01:53.234734Z"
    },
    "id": "uUUZa2uq2jDm",
    "papermill": {
     "duration": 0.213212,
     "end_time": "2024-11-20T22:01:53.238483",
     "exception": false,
     "start_time": "2024-11-20T22:01:53.025271",
     "status": "completed"
    },
    "tags": []
   },
   "outputs": [
    {
     "name": "stdout",
     "output_type": "stream",
     "text": [
      "models/chat-bison-001\n",
      "models/text-bison-001\n",
      "models/embedding-gecko-001\n",
      "models/gemini-1.0-pro-latest\n",
      "models/gemini-1.0-pro\n",
      "models/gemini-pro\n",
      "models/gemini-1.0-pro-001\n",
      "models/gemini-1.0-pro-vision-latest\n",
      "models/gemini-pro-vision\n",
      "models/gemini-1.5-pro-latest\n",
      "models/gemini-1.5-pro-001\n",
      "models/gemini-1.5-pro-002\n",
      "models/gemini-1.5-pro\n",
      "models/gemini-1.5-pro-exp-0801\n",
      "models/gemini-1.5-pro-exp-0827\n",
      "models/gemini-1.5-flash-latest\n",
      "models/gemini-1.5-flash-001\n",
      "models/gemini-1.5-flash-001-tuning\n",
      "models/gemini-1.5-flash\n",
      "models/gemini-1.5-flash-exp-0827\n",
      "models/gemini-1.5-flash-002\n",
      "models/gemini-1.5-flash-8b\n",
      "models/gemini-1.5-flash-8b-001\n",
      "models/gemini-1.5-flash-8b-latest\n",
      "models/gemini-1.5-flash-8b-exp-0827\n",
      "models/gemini-1.5-flash-8b-exp-0924\n",
      "models/learnlm-1.5-pro-experimental\n",
      "models/gemini-exp-1114\n",
      "models/embedding-001\n",
      "models/text-embedding-004\n",
      "models/aqa\n"
     ]
    }
   ],
   "source": [
    "for model in genai.list_models():\n",
    "  print(model.name)"
   ]
  },
  {
   "cell_type": "markdown",
   "id": "3221d8eb",
   "metadata": {
    "id": "rN49kSI54R1v",
    "papermill": {
     "duration": 0.010614,
     "end_time": "2024-11-20T22:01:53.260015",
     "exception": false,
     "start_time": "2024-11-20T22:01:53.249401",
     "status": "completed"
    },
    "tags": []
   },
   "source": [
    "The [`models.list`](https://ai.google.dev/api/models#method:-models.list) response also returns additional information about the model's capabilities, like the token limits and supported parameters."
   ]
  },
  {
   "cell_type": "code",
   "execution_count": 11,
   "id": "76c33f24",
   "metadata": {
    "execution": {
     "iopub.execute_input": "2024-11-20T22:01:53.284312Z",
     "iopub.status.busy": "2024-11-20T22:01:53.283363Z",
     "iopub.status.idle": "2024-11-20T22:01:53.466452Z",
     "shell.execute_reply": "2024-11-20T22:01:53.465393Z"
    },
    "id": "k7JJ1K6j4Rl8",
    "papermill": {
     "duration": 0.197583,
     "end_time": "2024-11-20T22:01:53.468790",
     "exception": false,
     "start_time": "2024-11-20T22:01:53.271207",
     "status": "completed"
    },
    "tags": []
   },
   "outputs": [
    {
     "name": "stdout",
     "output_type": "stream",
     "text": [
      "Model(name='models/gemini-1.5-flash',\n",
      "      base_model_id='',\n",
      "      version='001',\n",
      "      display_name='Gemini 1.5 Flash',\n",
      "      description=('Alias that points to the most recent stable version of Gemini 1.5 Flash, our '\n",
      "                   'fast and versatile multimodal model for scaling across diverse tasks.'),\n",
      "      input_token_limit=1000000,\n",
      "      output_token_limit=8192,\n",
      "      supported_generation_methods=['generateContent', 'countTokens'],\n",
      "      temperature=1.0,\n",
      "      max_temperature=2.0,\n",
      "      top_p=0.95,\n",
      "      top_k=40)\n"
     ]
    }
   ],
   "source": [
    "for model in genai.list_models():\n",
    "  if model.name == 'models/gemini-1.5-flash':\n",
    "    print(model)\n",
    "    break"
   ]
  },
  {
   "cell_type": "markdown",
   "id": "80a632f5",
   "metadata": {
    "id": "5rU_UBlZdooM",
    "papermill": {
     "duration": 0.011088,
     "end_time": "2024-11-20T22:01:53.491161",
     "exception": false,
     "start_time": "2024-11-20T22:01:53.480073",
     "status": "completed"
    },
    "tags": []
   },
   "source": [
    "## Explore generation parameters\n",
    "\n"
   ]
  },
  {
   "cell_type": "markdown",
   "id": "0bc8df12",
   "metadata": {
    "id": "G7NfEizeipbW",
    "papermill": {
     "duration": 0.010837,
     "end_time": "2024-11-20T22:01:53.513481",
     "exception": false,
     "start_time": "2024-11-20T22:01:53.502644",
     "status": "completed"
    },
    "tags": []
   },
   "source": [
    "### Output length\n",
    "\n",
    "When generating text with an LLM, the output length affects cost and performance. Generating more tokens increases computation, leading to higher energy consumption, latency, and cost.\n",
    "\n",
    "To stop the model from generating tokens past a limit, you can specify the `max_output_tokens` parameter when using the Gemini API. Specifying this parameter does not influence the generation of the output tokens, so the output will not become more stylistically or textually succinct, but it will stop generating tokens once the specified length is reached. Prompt engineering may be required to generate a more complete output for your given limit."
   ]
  },
  {
   "cell_type": "code",
   "execution_count": 12,
   "id": "ad8be198",
   "metadata": {
    "execution": {
     "iopub.execute_input": "2024-11-20T22:01:53.537198Z",
     "iopub.status.busy": "2024-11-20T22:01:53.536817Z",
     "iopub.status.idle": "2024-11-20T22:01:55.414804Z",
     "shell.execute_reply": "2024-11-20T22:01:55.413651Z"
    },
    "id": "qVf23JsIi9ma",
    "papermill": {
     "duration": 1.892394,
     "end_time": "2024-11-20T22:01:55.416981",
     "exception": false,
     "start_time": "2024-11-20T22:01:53.524587",
     "status": "completed"
    },
    "tags": []
   },
   "outputs": [
    {
     "name": "stdout",
     "output_type": "stream",
     "text": [
      "## The Enduring Significance of Olives in Modern Society\n",
      "\n",
      "The olive ( *Olea europaea*) is far more than a simple fruit; it is a cornerstone of Mediterranean culture, a significant contributor to global economies, and a vital ingredient in a diverse range of culinary traditions.  Its importance transcends mere sustenance, encompassing historical, economic, environmental, and social dimensions that continue to shape modern society. This essay will explore the multifaceted significance of olives in the contemporary world, analyzing their contribution to food security, economic development, environmental sustainability, and cultural identity.\n",
      "\n",
      "The olive's primary role in modern society remains its contribution to food security. Olive oil, extracted from the fruit, is a fundamental dietary staple across the Mediterranean region and beyond.  It is a rich source of monounsaturated fats, antioxidants, and vitamins, associated with numerous health benefits, including reduced risk of cardiovascular disease and certain cancers.  The high nutritional value of olive oil has propelled its global demand, making it a critical component of\n"
     ]
    }
   ],
   "source": [
    "short_model = genai.GenerativeModel(\n",
    "    'gemini-1.5-flash',\n",
    "    generation_config=genai.GenerationConfig(max_output_tokens=200))\n",
    "\n",
    "response = short_model.generate_content('Write a 1000 word essay on the importance of olives in modern society.')\n",
    "print(response.text)"
   ]
  },
  {
   "cell_type": "code",
   "execution_count": 13,
   "id": "339adeeb",
   "metadata": {
    "execution": {
     "iopub.execute_input": "2024-11-20T22:01:55.442422Z",
     "iopub.status.busy": "2024-11-20T22:01:55.441925Z",
     "iopub.status.idle": "2024-11-20T22:01:56.427380Z",
     "shell.execute_reply": "2024-11-20T22:01:56.426172Z"
    },
    "id": "W-3kR2F5kdMR",
    "papermill": {
     "duration": 1.0007,
     "end_time": "2024-11-20T22:01:56.429814",
     "exception": false,
     "start_time": "2024-11-20T22:01:55.429114",
     "status": "completed"
    },
    "tags": []
   },
   "outputs": [
    {
     "name": "stdout",
     "output_type": "stream",
     "text": [
      "From ancient groves to modern plate,\n",
      "The olive's gift, we celebrate.\n",
      "A humble fruit, a verdant sphere,\n",
      "Dispelling hunger, year by year.\n",
      "\n",
      "Its oil we use, a healthy grace,\n",
      "In kitchens far, in every place.\n",
      "A symbol rich, of sun-drenched land,\n",
      "Sustaining life, a helping hand. \n",
      "So raise a glass, of olive's might,\n",
      "A taste of history, pure and bright.\n",
      "\n"
     ]
    }
   ],
   "source": [
    "response = short_model.generate_content('Write a short poem on the importance of olives in modern society.')\n",
    "print(response.text)"
   ]
  },
  {
   "cell_type": "markdown",
   "id": "c94c71c8",
   "metadata": {
    "id": "3ZhDSLB6lqqB",
    "papermill": {
     "duration": 0.010787,
     "end_time": "2024-11-20T22:01:56.451968",
     "exception": false,
     "start_time": "2024-11-20T22:01:56.441181",
     "status": "completed"
    },
    "tags": []
   },
   "source": [
    "Explore with your own prompts. Try a prompt with a restrictive output limit and then adjust the prompt to work within that limit."
   ]
  },
  {
   "cell_type": "markdown",
   "id": "423a62ca",
   "metadata": {
    "id": "alx-WaAvir_9",
    "papermill": {
     "duration": 0.010889,
     "end_time": "2024-11-20T22:01:56.474281",
     "exception": false,
     "start_time": "2024-11-20T22:01:56.463392",
     "status": "completed"
    },
    "tags": []
   },
   "source": [
    "### Temperature\n",
    "\n",
    "Temperature controls the degree of randomness in token selection. Higher temperatures result in a higher number of candidate tokens from which the next output token is selected, and can produce more diverse results, while lower temperatures have the opposite effect, such that a temperature of 0 results in greedy decoding, selecting the most probable token at each step.\n",
    "\n",
    "Temperature doesn't provide any guarantees of randomness, but it can be used to \"nudge\" the output somewhat.\n",
    "\n",
    "**Note that if you see a 429 Resource Exhausted error here, you may be able to edit the words in the prompt slightly to progress.**"
   ]
  },
  {
   "cell_type": "code",
   "execution_count": 14,
   "id": "94dafd5c",
   "metadata": {
    "execution": {
     "iopub.execute_input": "2024-11-20T22:01:56.498476Z",
     "iopub.status.busy": "2024-11-20T22:01:56.498111Z",
     "iopub.status.idle": "2024-11-20T22:01:58.402525Z",
     "shell.execute_reply": "2024-11-20T22:01:58.401245Z"
    },
    "id": "SHraGMzqnZqt",
    "papermill": {
     "duration": 1.919338,
     "end_time": "2024-11-20T22:01:58.404854",
     "exception": false,
     "start_time": "2024-11-20T22:01:56.485516",
     "status": "completed"
    },
    "tags": []
   },
   "outputs": [
    {
     "name": "stdout",
     "output_type": "stream",
     "text": [
      "Maroon\n",
      " -------------------------\n",
      "Purple\n",
      " -------------------------\n",
      "Purple\n",
      " -------------------------\n",
      "Purple\n",
      " -------------------------\n",
      "Maroon\n",
      " -------------------------\n"
     ]
    }
   ],
   "source": [
    "from google.api_core import retry\n",
    "\n",
    "high_temp_model = genai.GenerativeModel(\n",
    "    'gemini-1.5-flash',\n",
    "    generation_config=genai.GenerationConfig(temperature=2.0))\n",
    "\n",
    "\n",
    "# When running lots of queries, it's a good practice to use a retry policy so your code\n",
    "# automatically retries when hitting Resource Exhausted (quota limit) errors.\n",
    "retry_policy = {\n",
    "    \"retry\": retry.Retry(predicate=retry.if_transient_error, initial=10, multiplier=1.5, timeout=300)\n",
    "}\n",
    "\n",
    "for _ in range(5):\n",
    "  response = high_temp_model.generate_content('Pick a random colour... (respond in a single word)',\n",
    "                                              request_options=retry_policy)\n",
    "  if response.parts:\n",
    "    print(response.text, '-' * 25)"
   ]
  },
  {
   "cell_type": "markdown",
   "id": "e13a73ec",
   "metadata": {
    "id": "z3J4pCTuof7e",
    "papermill": {
     "duration": 0.012071,
     "end_time": "2024-11-20T22:01:58.429193",
     "exception": false,
     "start_time": "2024-11-20T22:01:58.417122",
     "status": "completed"
    },
    "tags": []
   },
   "source": [
    "Now try the same prompt with temperature set to zero. Note that the output is not completely deterministic, as other parameters affect token selection, but the results will tend to be more stable."
   ]
  },
  {
   "cell_type": "code",
   "execution_count": 15,
   "id": "58a26ac0",
   "metadata": {
    "execution": {
     "iopub.execute_input": "2024-11-20T22:01:58.454454Z",
     "iopub.status.busy": "2024-11-20T22:01:58.453532Z",
     "iopub.status.idle": "2024-11-20T22:02:00.199034Z",
     "shell.execute_reply": "2024-11-20T22:02:00.197921Z"
    },
    "id": "clymkWv-PfUZ",
    "papermill": {
     "duration": 1.760264,
     "end_time": "2024-11-20T22:02:00.201218",
     "exception": false,
     "start_time": "2024-11-20T22:01:58.440954",
     "status": "completed"
    },
    "tags": []
   },
   "outputs": [
    {
     "name": "stdout",
     "output_type": "stream",
     "text": [
      "Maroon\n",
      " -------------------------\n",
      "Maroon\n",
      " -------------------------\n",
      "Maroon\n",
      " -------------------------\n",
      "Maroon\n",
      " -------------------------\n",
      "Maroon\n",
      " -------------------------\n"
     ]
    }
   ],
   "source": [
    "from google.api_core import retry\n",
    "\n",
    "low_temp_model = genai.GenerativeModel(\n",
    "    'gemini-1.5-flash',\n",
    "    generation_config=genai.GenerationConfig(temperature=0.0))\n",
    "\n",
    "# When running lots of queries, it's a good practice to use a retry policy so your code\n",
    "# automatically retries when hitting Resource Exhausted (quota limit) errors.\n",
    "retry_policy = {\n",
    "    \"retry\": retry.Retry(predicate=retry.if_transient_error, initial=10, multiplier=1.5, timeout=300)\n",
    "}\n",
    "\n",
    "for _ in range(5):\n",
    "  response = low_temp_model.generate_content('Pick a random colour... (respond in a single word)',\n",
    "                                             request_options=retry_policy)\n",
    "  if response.parts:\n",
    "    print(response.text, '-' * 25)"
   ]
  },
  {
   "cell_type": "markdown",
   "id": "4cc3fb6b",
   "metadata": {
    "id": "St5nt3vzitsZ",
    "papermill": {
     "duration": 0.011631,
     "end_time": "2024-11-20T22:02:00.225266",
     "exception": false,
     "start_time": "2024-11-20T22:02:00.213635",
     "status": "completed"
    },
    "tags": []
   },
   "source": [
    "### Top-K and top-P\n",
    "\n",
    "Like temperature, top-K and top-P parameters are also used to control the diversity of the model's output.\n",
    "\n",
    "Top-K is a positive integer that defines the number of most probable tokens from which to select the output token. A top-K of 1 selects a single token, performing greedy decoding.\n",
    "\n",
    "Top-P defines the probability threshold that, once cumulatively exceeded, tokens stop being selected as candidates. A top-P of 0 is typically equivalent to greedy decoding, and a top-P of 1 typically selects every token in the model's vocabulary.\n",
    "\n",
    "When both are supplied, the Gemini API will filter top-K tokens first, then top-P and then finally sample from the candidate tokens using the supplied temperature.\n",
    "\n",
    "Run this example a number of times, change the settings and observe the change in output."
   ]
  },
  {
   "cell_type": "code",
   "execution_count": 16,
   "id": "c042897b",
   "metadata": {
    "execution": {
     "iopub.execute_input": "2024-11-20T22:02:00.250880Z",
     "iopub.status.busy": "2024-11-20T22:02:00.250449Z",
     "iopub.status.idle": "2024-11-20T22:02:03.163868Z",
     "shell.execute_reply": "2024-11-20T22:02:03.162641Z"
    },
    "id": "lPlzpEavUV8F",
    "papermill": {
     "duration": 2.92912,
     "end_time": "2024-11-20T22:02:03.166415",
     "exception": false,
     "start_time": "2024-11-20T22:02:00.237295",
     "status": "completed"
    },
    "tags": []
   },
   "outputs": [
    {
     "name": "stdout",
     "output_type": "stream",
     "text": [
      "Bartholomew, a ginger tabby with a disdain for anything resembling routine, gazed out the window, his emerald eyes glittering with mischief. The world outside beckoned – a kaleidoscope of smells, sounds, and possibilities. He longed to explore, to chase butterflies and unravel the mysteries of the garden beyond the fence. \n",
      "\n",
      "This wasn't just any ordinary garden, however. It was a labyrinth of fragrant lavender bushes, towering sunflowers, and a mischievous, bubbling fountain. The old, creaky fence, its wooden slats painted a faded blue, seemed to whisper stories of hidden treasures and daring escapades. \n",
      "\n",
      "Tonight, Bartholomew decided, was the night for adventure. \n",
      "\n",
      "He waited until the moon cast long, shimmering shadows across the garden, then with a graceful leap, he landed on the top of the fence. His paws, nimble and swift, navigated the uneven surface with ease. \n",
      "\n",
      "The world beyond the fence was a symphony of new sensations. He stalked a plump, unsuspecting beetle, its iridescent wings shimmering in the moonlight. He climbed a gnarled oak, its branches reaching for the stars, and surveyed his kingdom.  \n",
      "\n",
      "His journey led him to a forgotten corner of the garden, where a small, wooden shed sat nestled amongst overgrown ivy. Curiosity piqued, Bartholomew slipped through a gap in the weathered boards. The scent of dust and forgotten things filled his nostrils. \n",
      "\n",
      "He found a dusty, leather-bound journal, its pages filled with elegant handwriting. It was the diary of a young girl, a girl who loved the garden as much as Bartholomew did. He spent the night reading, his eyes wide with wonder at her tales of fairies and talking trees. \n",
      "\n",
      "As dawn painted the sky with hues of pink and orange, Bartholomew knew it was time to return. He climbed back over the fence, a newfound sense of wonder in his heart. He wasn't just a cat anymore. He was an explorer, a storyteller, an adventurer.\n",
      "\n",
      "He curled up on his favorite window sill, a contented purr rumbling in his chest. The garden, now bathed in the morning sunlight, seemed even more magical. Bartholomew closed his eyes, the memory of the old journal and the girl's stories warming him from within. He knew that his adventure had just begun. The world was a vast, untamed place, brimming with secrets waiting to be discovered. And Bartholomew, the ginger tabby with a heart full of wanderlust, was ready for it all. \n",
      "\n"
     ]
    }
   ],
   "source": [
    "model = genai.GenerativeModel(\n",
    "    'gemini-1.5-flash-001',\n",
    "    generation_config=genai.GenerationConfig(\n",
    "        # These are the default values for gemini-1.5-flash-001.\n",
    "        temperature=1.0,\n",
    "        top_k=64,\n",
    "        top_p=0.95,\n",
    "    ))\n",
    "\n",
    "story_prompt = \"You are a creative writer. Write a short story about a cat who goes on an adventure.\"\n",
    "response = model.generate_content(story_prompt, request_options=retry_policy)\n",
    "print(response.text)"
   ]
  },
  {
   "cell_type": "markdown",
   "id": "48b08de3",
   "metadata": {
    "id": "rMrYs1koY6DX",
    "papermill": {
     "duration": 0.011693,
     "end_time": "2024-11-20T22:02:03.190901",
     "exception": false,
     "start_time": "2024-11-20T22:02:03.179208",
     "status": "completed"
    },
    "tags": []
   },
   "source": [
    "## Prompting\n",
    "\n",
    "This section contains some prompts from the chapter for you to try out directly in the API. Try changing the text here to see how each prompt performs with different instructions, more examples, or any other changes you can think of."
   ]
  },
  {
   "cell_type": "markdown",
   "id": "f00a15da",
   "metadata": {
    "id": "hhj_tQidZJP7",
    "papermill": {
     "duration": 0.011588,
     "end_time": "2024-11-20T22:02:03.214471",
     "exception": false,
     "start_time": "2024-11-20T22:02:03.202883",
     "status": "completed"
    },
    "tags": []
   },
   "source": [
    "### Zero-shot\n",
    "\n",
    "Zero-shot prompts are prompts that describe the request for the model directly.\n",
    "\n",
    "<table align=left>\n",
    "  <td>\n",
    "    <a target=\"_blank\" href=\"https://aistudio.google.com/prompts/1gzKKgDHwkAvexG5Up0LMtl1-6jKMKe4g\"><img src=\"https://ai.google.dev/site-assets/images/marketing/home/icon-ais.png\" style=\"height: 24px\" height=24/> Open in AI Studio</a>\n",
    "  </td>\n",
    "</table>"
   ]
  },
  {
   "cell_type": "code",
   "execution_count": 17,
   "id": "5c7f3221",
   "metadata": {
    "execution": {
     "iopub.execute_input": "2024-11-20T22:02:03.240559Z",
     "iopub.status.busy": "2024-11-20T22:02:03.240168Z",
     "iopub.status.idle": "2024-11-20T22:02:03.536212Z",
     "shell.execute_reply": "2024-11-20T22:02:03.534927Z"
    },
    "id": "1_t-cwnDZzbH",
    "papermill": {
     "duration": 0.312206,
     "end_time": "2024-11-20T22:02:03.538582",
     "exception": false,
     "start_time": "2024-11-20T22:02:03.226376",
     "status": "completed"
    },
    "tags": []
   },
   "outputs": [
    {
     "name": "stdout",
     "output_type": "stream",
     "text": [
      "Sentiment: **POSITIVE**\n"
     ]
    }
   ],
   "source": [
    "model = genai.GenerativeModel(\n",
    "    'gemini-1.5-flash-001',\n",
    "    generation_config=genai.GenerationConfig(\n",
    "        temperature=0.1,\n",
    "        top_p=1,\n",
    "        max_output_tokens=5,\n",
    "    ))\n",
    "\n",
    "zero_shot_prompt = \"\"\"Classify movie reviews as POSITIVE, NEUTRAL or NEGATIVE.\n",
    "Review: \"Her\" is a disturbing study revealing the direction\n",
    "humanity is headed if AI is allowed to keep evolving,\n",
    "unchecked. I wish there were more movies like this masterpiece.\n",
    "Sentiment: \"\"\"\n",
    "\n",
    "response = model.generate_content(zero_shot_prompt, request_options=retry_policy)\n",
    "print(response.text)"
   ]
  },
  {
   "cell_type": "markdown",
   "id": "aa94afd9",
   "metadata": {
    "id": "3b5568bdeb11",
    "papermill": {
     "duration": 0.012539,
     "end_time": "2024-11-20T22:02:03.563294",
     "exception": false,
     "start_time": "2024-11-20T22:02:03.550755",
     "status": "completed"
    },
    "tags": []
   },
   "source": [
    "#### Enum mode\n",
    "\n",
    "The models are trained to generate text, and can sometimes produce more text than you may wish for. In the preceding example, the model will output the label, sometimes it can include a preceding \"Sentiment\" label, and without an output token limit, it may also add explanatory text afterwards.\n",
    "\n",
    "The Gemini API has an [Enum mode](https://github.com/google-gemini/cookbook/blob/main/quickstarts/Enum.ipynb) feature that allows you to constrain the output to a fixed set of values."
   ]
  },
  {
   "cell_type": "code",
   "execution_count": 18,
   "id": "1203b5ed",
   "metadata": {
    "execution": {
     "iopub.execute_input": "2024-11-20T22:02:03.588826Z",
     "iopub.status.busy": "2024-11-20T22:02:03.588402Z",
     "iopub.status.idle": "2024-11-20T22:02:04.101990Z",
     "shell.execute_reply": "2024-11-20T22:02:04.100761Z"
    },
    "id": "ad118a56c598",
    "papermill": {
     "duration": 0.529128,
     "end_time": "2024-11-20T22:02:04.104385",
     "exception": false,
     "start_time": "2024-11-20T22:02:03.575257",
     "status": "completed"
    },
    "tags": []
   },
   "outputs": [
    {
     "name": "stdout",
     "output_type": "stream",
     "text": [
      "positive\n"
     ]
    }
   ],
   "source": [
    "import enum\n",
    "\n",
    "class Sentiment(enum.Enum):\n",
    "    POSITIVE = \"positive\"\n",
    "    NEUTRAL = \"neutral\"\n",
    "    NEGATIVE = \"negative\"\n",
    "\n",
    "\n",
    "model = genai.GenerativeModel(\n",
    "    'gemini-1.5-flash-001',\n",
    "    generation_config=genai.GenerationConfig(\n",
    "        response_mime_type=\"text/x.enum\",\n",
    "        response_schema=Sentiment\n",
    "    ))\n",
    "\n",
    "response = model.generate_content(zero_shot_prompt, request_options=retry_policy)\n",
    "print(response.text)"
   ]
  },
  {
   "cell_type": "markdown",
   "id": "443e6f51",
   "metadata": {
    "id": "0udiSwNbv45W",
    "papermill": {
     "duration": 0.011711,
     "end_time": "2024-11-20T22:02:04.128715",
     "exception": false,
     "start_time": "2024-11-20T22:02:04.117004",
     "status": "completed"
    },
    "tags": []
   },
   "source": [
    "### One-shot and few-shot\n",
    "\n",
    "Providing an example of the expected response is known as a \"one-shot\" prompt. When you provide multiple examples, it is a \"few-shot\" prompt.\n",
    "\n",
    "<table align=left>\n",
    "  <td>\n",
    "    <a target=\"_blank\" href=\"https://aistudio.google.com/prompts/1jjWkjUSoMXmLvMJ7IzADr_GxHPJVV2bg\"><img src=\"https://ai.google.dev/site-assets/images/marketing/home/icon-ais.png\" style=\"height: 24px\" height=24/> Open in AI Studio</a>\n",
    "  </td>\n",
    "</table>\n"
   ]
  },
  {
   "cell_type": "code",
   "execution_count": 19,
   "id": "cd622730",
   "metadata": {
    "execution": {
     "iopub.execute_input": "2024-11-20T22:02:04.154620Z",
     "iopub.status.busy": "2024-11-20T22:02:04.154238Z",
     "iopub.status.idle": "2024-11-20T22:02:04.758403Z",
     "shell.execute_reply": "2024-11-20T22:02:04.757010Z"
    },
    "id": "hd4mVUukwOKZ",
    "papermill": {
     "duration": 0.619758,
     "end_time": "2024-11-20T22:02:04.760716",
     "exception": false,
     "start_time": "2024-11-20T22:02:04.140958",
     "status": "completed"
    },
    "tags": []
   },
   "outputs": [
    {
     "name": "stdout",
     "output_type": "stream",
     "text": [
      "```json\n",
      "{\n",
      "  \"size\": \"large\",\n",
      "  \"type\": \"normal\",\n",
      "  \"ingredients\": [\"cheese\", \"pineapple\"]\n",
      "}\n",
      "```\n",
      "\n"
     ]
    }
   ],
   "source": [
    "model = genai.GenerativeModel(\n",
    "    'gemini-1.5-flash-latest',\n",
    "    generation_config=genai.GenerationConfig(\n",
    "        temperature=0.1,\n",
    "        top_p=1,\n",
    "        max_output_tokens=250,\n",
    "    ))\n",
    "\n",
    "few_shot_prompt = \"\"\"Parse a customer's pizza order into valid JSON:\n",
    "\n",
    "EXAMPLE:\n",
    "I want a small pizza with cheese, tomato sauce, and pepperoni.\n",
    "JSON Response:\n",
    "```\n",
    "{\n",
    "\"size\": \"small\",\n",
    "\"type\": \"normal\",\n",
    "\"ingredients\": [\"cheese\", \"tomato sauce\", \"peperoni\"]\n",
    "}\n",
    "```\n",
    "\n",
    "EXAMPLE:\n",
    "Can I get a large pizza with tomato sauce, basil and mozzarella\n",
    "JSON Response:\n",
    "```\n",
    "{\n",
    "\"size\": \"large\",\n",
    "\"type\": \"normal\",\n",
    "\"ingredients\": [\"tomato sauce\", \"basil\", \"mozzarella\"]\n",
    "}\n",
    "\n",
    "ORDER:\n",
    "\"\"\"\n",
    "\n",
    "customer_order = \"Give me a large with cheese & pineapple\"\n",
    "\n",
    "\n",
    "response = model.generate_content([few_shot_prompt, customer_order], request_options=retry_policy)\n",
    "print(response.text)"
   ]
  },
  {
   "cell_type": "markdown",
   "id": "05ca4483",
   "metadata": {
    "id": "021293096f08",
    "papermill": {
     "duration": 0.01273,
     "end_time": "2024-11-20T22:02:04.786103",
     "exception": false,
     "start_time": "2024-11-20T22:02:04.773373",
     "status": "completed"
    },
    "tags": []
   },
   "source": [
    "#### JSON mode\n",
    "\n",
    "To provide control over the schema, and to ensure that you only receive JSON (with no other text or markdown), you can use the Gemini API's [JSON mode](https://github.com/google-gemini/cookbook/blob/main/quickstarts/JSON_mode.ipynb). This forces the model to constrain decoding, such that token selection is guided by the supplied schema."
   ]
  },
  {
   "cell_type": "code",
   "execution_count": 20,
   "id": "0051fd16",
   "metadata": {
    "execution": {
     "iopub.execute_input": "2024-11-20T22:02:04.812326Z",
     "iopub.status.busy": "2024-11-20T22:02:04.811950Z",
     "iopub.status.idle": "2024-11-20T22:02:05.455664Z",
     "shell.execute_reply": "2024-11-20T22:02:05.454372Z"
    },
    "id": "50fbf0260912",
    "papermill": {
     "duration": 0.65948,
     "end_time": "2024-11-20T22:02:05.458009",
     "exception": false,
     "start_time": "2024-11-20T22:02:04.798529",
     "status": "completed"
    },
    "tags": []
   },
   "outputs": [
    {
     "name": "stdout",
     "output_type": "stream",
     "text": [
      "{\"ingredients\": [\"apple\", \"chocolate\"], \"size\": \"large\", \"type\": \"dessert pizza\"}\n",
      "\n"
     ]
    }
   ],
   "source": [
    "import typing_extensions as typing\n",
    "\n",
    "class PizzaOrder(typing.TypedDict):\n",
    "    size: str\n",
    "    ingredients: list[str]\n",
    "    type: str\n",
    "\n",
    "\n",
    "model = genai.GenerativeModel(\n",
    "    'gemini-1.5-flash-latest',\n",
    "    generation_config=genai.GenerationConfig(\n",
    "        temperature=0.1,\n",
    "        response_mime_type=\"application/json\",\n",
    "        response_schema=PizzaOrder,\n",
    "    ))\n",
    "\n",
    "response = model.generate_content(\"Can I have a large dessert pizza with apple and chocolate\")\n",
    "print(response.text)"
   ]
  },
  {
   "cell_type": "markdown",
   "id": "c624aa70",
   "metadata": {
    "id": "4a93e338e57c",
    "papermill": {
     "duration": 0.012003,
     "end_time": "2024-11-20T22:02:05.482253",
     "exception": false,
     "start_time": "2024-11-20T22:02:05.470250",
     "status": "completed"
    },
    "tags": []
   },
   "source": [
    "### Chain of Thought (CoT)\n",
    "\n",
    "Direct prompting on LLMs can return answers quickly and (in terms of output token usage) efficiently, but they can be prone to hallucination. The answer may \"look\" correct (in terms of language and syntax) but is incorrect in terms of factuality and reasoning.\n",
    "\n",
    "Chain-of-Thought prompting is a technique where you instruct the model to output intermediate reasoning steps, and it typically gets better results, especially when combined with few-shot examples. It is worth noting that this technique doesn't completely eliminate hallucinations, and that it tends to cost more to run, due to the increased token count.\n",
    "\n",
    "As models like the Gemini family are trained to be \"chatty\" and provide reasoning steps, you can ask the model to be more direct in the prompt."
   ]
  },
  {
   "cell_type": "code",
   "execution_count": 21,
   "id": "72bb29fe",
   "metadata": {
    "execution": {
     "iopub.execute_input": "2024-11-20T22:02:05.508942Z",
     "iopub.status.busy": "2024-11-20T22:02:05.508265Z",
     "iopub.status.idle": "2024-11-20T22:02:05.862576Z",
     "shell.execute_reply": "2024-11-20T22:02:05.861523Z"
    },
    "id": "5715555db1c1",
    "papermill": {
     "duration": 0.370182,
     "end_time": "2024-11-20T22:02:05.864935",
     "exception": false,
     "start_time": "2024-11-20T22:02:05.494753",
     "status": "completed"
    },
    "tags": []
   },
   "outputs": [
    {
     "name": "stdout",
     "output_type": "stream",
     "text": [
      "41\n",
      "\n"
     ]
    }
   ],
   "source": [
    "prompt = \"\"\"When I was 4 years old, my partner was 3 times my age. Now, I\n",
    "am 20 years old. How old is my partner? Return the answer directly.\"\"\"\n",
    "\n",
    "model = genai.GenerativeModel('gemini-1.5-flash-latest')\n",
    "response = model.generate_content(prompt, request_options=retry_policy)\n",
    "\n",
    "print(response.text)"
   ]
  },
  {
   "cell_type": "markdown",
   "id": "c8bd9631",
   "metadata": {
    "id": "e12b19677bfd",
    "papermill": {
     "duration": 0.011845,
     "end_time": "2024-11-20T22:02:05.889218",
     "exception": false,
     "start_time": "2024-11-20T22:02:05.877373",
     "status": "completed"
    },
    "tags": []
   },
   "source": [
    "Now try the same approach, but indicate to the model that it should \"think step by step\"."
   ]
  },
  {
   "cell_type": "code",
   "execution_count": 22,
   "id": "ef1465b8",
   "metadata": {
    "execution": {
     "iopub.execute_input": "2024-11-20T22:02:05.916146Z",
     "iopub.status.busy": "2024-11-20T22:02:05.915599Z",
     "iopub.status.idle": "2024-11-20T22:03:02.789886Z",
     "shell.execute_reply": "2024-11-20T22:03:02.788582Z"
    },
    "id": "ffd7536a481f",
    "papermill": {
     "duration": 56.903283,
     "end_time": "2024-11-20T22:03:02.804819",
     "exception": false,
     "start_time": "2024-11-20T22:02:05.901536",
     "status": "completed"
    },
    "tags": []
   },
   "outputs": [
    {
     "name": "stdout",
     "output_type": "stream",
     "text": [
      "Step 1: Find the partner's age when you were 4.\n",
      "\n",
      "* When you were 4, your partner was 3 times your age, so they were 3 * 4 = 12 years old.\n",
      "\n",
      "Step 2: Find the age difference between you and your partner.\n",
      "\n",
      "* The age difference is 12 - 4 = 8 years.\n",
      "\n",
      "Step 3: Determine your partner's current age.\n",
      "\n",
      "* You are now 20 years old.\n",
      "* The age difference remains constant, so your partner is 20 + 8 = 28 years old.\n",
      "\n",
      "Therefore, your partner is now $\\boxed{28}$ years old.\n",
      "\n"
     ]
    }
   ],
   "source": [
    "prompt = \"\"\"When I was 4 years old, my partner was 3 times my age. Now,\n",
    "I am 20 years old. How old is my partner? Let's think step by step.\"\"\"\n",
    "\n",
    "response = model.generate_content(prompt, request_options=retry_policy)\n",
    "print(response.text)"
   ]
  },
  {
   "cell_type": "markdown",
   "id": "f4ffafd0",
   "metadata": {
    "id": "oiLgBQJj0V53",
    "papermill": {
     "duration": 0.01211,
     "end_time": "2024-11-20T22:03:02.829565",
     "exception": false,
     "start_time": "2024-11-20T22:03:02.817455",
     "status": "completed"
    },
    "tags": []
   },
   "source": [
    "### ReAct: Reason and act\n",
    "\n",
    "In this example you will run a ReAct prompt directly in the Gemini API and perform the searching steps yourself. As this prompt follows a well-defined structure, there are frameworks available that wrap the prompt into easier-to-use APIs that make tool calls automatically, such as the LangChain example from the chapter.\n",
    "\n",
    "To try this out with the Wikipedia search engine, check out the [Searching Wikipedia with ReAct](https://github.com/google-gemini/cookbook/blob/main/examples/Search_Wikipedia_using_ReAct.ipynb) cookbook example.\n",
    "\n",
    "\n",
    "> Note: The prompt and in-context examples used here are from [https://github.com/ysymyth/ReAct](https://github.com/ysymyth/ReAct) which is published under a [MIT license](https://opensource.org/licenses/MIT), Copyright (c) 2023 Shunyu Yao.\n",
    "\n",
    "<table align=left>\n",
    "  <td>\n",
    "    <a target=\"_blank\" href=\"https://aistudio.google.com/prompts/18oo63Lwosd-bQ6Ay51uGogB3Wk3H8XMO\"><img src=\"https://ai.google.dev/site-assets/images/marketing/home/icon-ais.png\" style=\"height: 24px\" height=24/> Open in AI Studio</a>\n",
    "  </td>\n",
    "</table>\n"
   ]
  },
  {
   "cell_type": "code",
   "execution_count": 23,
   "id": "cecaf34b",
   "metadata": {
    "execution": {
     "iopub.execute_input": "2024-11-20T22:03:02.856186Z",
     "iopub.status.busy": "2024-11-20T22:03:02.855824Z",
     "iopub.status.idle": "2024-11-20T22:03:02.862436Z",
     "shell.execute_reply": "2024-11-20T22:03:02.861271Z"
    },
    "id": "cBgyNJ5z0VSs",
    "papermill": {
     "duration": 0.022764,
     "end_time": "2024-11-20T22:03:02.864638",
     "exception": false,
     "start_time": "2024-11-20T22:03:02.841874",
     "status": "completed"
    },
    "tags": []
   },
   "outputs": [],
   "source": [
    "model_instructions = \"\"\"\n",
    "Solve a question answering task with interleaving Thought, Action, Observation steps. Thought can reason about the current situation,\n",
    "Observation is understanding relevant information from an Action's output and Action can be one of three types:\n",
    " (1) <search>entity</search>, which searches the exact entity on Wikipedia and returns the first paragraph if it exists. If not, it\n",
    "     will return some similar entities to search and you can try to search the information from those topics.\n",
    " (2) <lookup>keyword</lookup>, which returns the next sentence containing keyword in the current context. This only does exact matches,\n",
    "     so keep your searches short.\n",
    " (3) <finish>answer</finish>, which returns the answer and finishes the task.\n",
    "\"\"\"\n",
    "\n",
    "example1 = \"\"\"Question\n",
    "Musician and satirist Allie Goertz wrote a song about the \"The Simpsons\" character Milhouse, who Matt Groening named after who?\n",
    "\n",
    "Thought 1\n",
    "The question simplifies to \"The Simpsons\" character Milhouse is named after who. I only need to search Milhouse and find who it is named after.\n",
    "\n",
    "Action 1\n",
    "<search>Milhouse</search>\n",
    "\n",
    "Observation 1\n",
    "Milhouse Mussolini Van Houten is a recurring character in the Fox animated television series The Simpsons voiced by Pamela Hayden and created by Matt Groening.\n",
    "\n",
    "Thought 2\n",
    "The paragraph does not tell who Milhouse is named after, maybe I can look up \"named after\".\n",
    "\n",
    "Action 2\n",
    "<lookup>named after</lookup>\n",
    "\n",
    "Observation 2\n",
    "Milhouse was named after U.S. president Richard Nixon, whose middle name was Milhous.\n",
    "\n",
    "Thought 3\n",
    "Milhouse was named after U.S. president Richard Nixon, so the answer is Richard Nixon.\n",
    "\n",
    "Action 3\n",
    "<finish>Richard Nixon</finish>\n",
    "\"\"\"\n",
    "\n",
    "example2 = \"\"\"Question\n",
    "What is the elevation range for the area that the eastern sector of the Colorado orogeny extends into?\n",
    "\n",
    "Thought 1\n",
    "I need to search Colorado orogeny, find the area that the eastern sector of the Colorado orogeny extends into, then find the elevation range of the area.\n",
    "\n",
    "Action 1\n",
    "<search>Colorado orogeny</search>\n",
    "\n",
    "Observation 1\n",
    "The Colorado orogeny was an episode of mountain building (an orogeny) in Colorado and surrounding areas.\n",
    "\n",
    "Thought 2\n",
    "It does not mention the eastern sector. So I need to look up eastern sector.\n",
    "\n",
    "Action 2\n",
    "<lookup>eastern sector</lookup>\n",
    "\n",
    "Observation 2\n",
    "The eastern sector extends into the High Plains and is called the Central Plains orogeny.\n",
    "\n",
    "Thought 3\n",
    "The eastern sector of Colorado orogeny extends into the High Plains. So I need to search High Plains and find its elevation range.\n",
    "\n",
    "Action 3\n",
    "<search>High Plains</search>\n",
    "\n",
    "Observation 3\n",
    "High Plains refers to one of two distinct land regions\n",
    "\n",
    "Thought 4\n",
    "I need to instead search High Plains (United States).\n",
    "\n",
    "Action 4\n",
    "<search>High Plains (United States)</search>\n",
    "\n",
    "Observation 4\n",
    "The High Plains are a subregion of the Great Plains. From east to west, the High Plains rise in elevation from around 1,800 to 7,000 ft (550 to 2,130m).\n",
    "\n",
    "Thought 5\n",
    "High Plains rise in elevation from around 1,800 to 7,000 ft, so the answer is 1,800 to 7,000 ft.\n",
    "\n",
    "Action 5\n",
    "<finish>1,800 to 7,000 ft</finish>\n",
    "\"\"\"\n",
    "\n",
    "# Come up with more examples yourself, or take a look through https://github.com/ysymyth/ReAct/"
   ]
  },
  {
   "cell_type": "markdown",
   "id": "aa6349af",
   "metadata": {
    "id": "C3wbfstjTgey",
    "papermill": {
     "duration": 0.011795,
     "end_time": "2024-11-20T22:03:02.888934",
     "exception": false,
     "start_time": "2024-11-20T22:03:02.877139",
     "status": "completed"
    },
    "tags": []
   },
   "source": [
    "To capture a single step at a time, while ignoring any hallucinated Observation steps, you will use `stop_sequences` to end the generation process. The steps are `Thought`, `Action`, `Observation`, in that order."
   ]
  },
  {
   "cell_type": "code",
   "execution_count": 24,
   "id": "c344c5d7",
   "metadata": {
    "execution": {
     "iopub.execute_input": "2024-11-20T22:03:02.914881Z",
     "iopub.status.busy": "2024-11-20T22:03:02.914480Z",
     "iopub.status.idle": "2024-11-20T22:03:05.834324Z",
     "shell.execute_reply": "2024-11-20T22:03:05.833134Z"
    },
    "id": "8mxrXRkRTdXm",
    "papermill": {
     "duration": 2.935264,
     "end_time": "2024-11-20T22:03:05.836412",
     "exception": false,
     "start_time": "2024-11-20T22:03:02.901148",
     "status": "completed"
    },
    "tags": []
   },
   "outputs": [
    {
     "name": "stdout",
     "output_type": "stream",
     "text": [
      "Thought 1\n",
      "I need to find the Transformers NLP paper and then find the authors and their ages to determine the youngest.  This will require multiple steps.  First, I need to find the paper.\n",
      "\n",
      "Action 1\n",
      "<search>Transformers NLP paper</search>\n",
      "\n"
     ]
    }
   ],
   "source": [
    "question = \"\"\"Question\n",
    "Who was the youngest author listed on the transformers NLP paper?\n",
    "\"\"\"\n",
    "\n",
    "model = genai.GenerativeModel('gemini-1.5-flash-latest')\n",
    "react_chat = model.start_chat()\n",
    "\n",
    "# You will perform the Action, so generate up to, but not including, the Observation.\n",
    "config = genai.GenerationConfig(stop_sequences=[\"\\nObservation\"])\n",
    "\n",
    "resp = react_chat.send_message(\n",
    "    [model_instructions, example1, example2, question],\n",
    "    generation_config=config,\n",
    "    request_options=retry_policy)\n",
    "print(resp.text)"
   ]
  },
  {
   "cell_type": "markdown",
   "id": "5592b9a6",
   "metadata": {
    "id": "aW2PIdLbVv3l",
    "papermill": {
     "duration": 0.011808,
     "end_time": "2024-11-20T22:03:05.860587",
     "exception": false,
     "start_time": "2024-11-20T22:03:05.848779",
     "status": "completed"
    },
    "tags": []
   },
   "source": [
    "Now you can perform this research yourself and supply it back to the model."
   ]
  },
  {
   "cell_type": "code",
   "execution_count": 25,
   "id": "a6f3aacb",
   "metadata": {
    "execution": {
     "iopub.execute_input": "2024-11-20T22:03:05.886820Z",
     "iopub.status.busy": "2024-11-20T22:03:05.886416Z",
     "iopub.status.idle": "2024-11-20T22:03:07.479214Z",
     "shell.execute_reply": "2024-11-20T22:03:07.478016Z"
    },
    "id": "mLMc0DZaV9g2",
    "papermill": {
     "duration": 1.608541,
     "end_time": "2024-11-20T22:03:07.481365",
     "exception": false,
     "start_time": "2024-11-20T22:03:05.872824",
     "status": "completed"
    },
    "tags": []
   },
   "outputs": [
    {
     "name": "stdout",
     "output_type": "stream",
     "text": [
      "Thought 2\n",
      "The observation gives me the authors of the paper \"Attention is All You Need\".  I don't have their ages, so I need to find that information.  I can try searching for each author individually to see if their age is available.  This will be a time-consuming process.  There might be other resources that list author ages.\n",
      "\n",
      "Action 2\n",
      "<search>Ashish Vaswani age>\n",
      "\n"
     ]
    }
   ],
   "source": [
    "observation = \"\"\"Observation 1\n",
    "[1706.03762] Attention Is All You Need\n",
    "Ashish Vaswani, Noam Shazeer, Niki Parmar, Jakob Uszkoreit, Llion Jones, Aidan N. Gomez, Lukasz Kaiser, Illia Polosukhin\n",
    "We propose a new simple network architecture, the Transformer, based solely on attention mechanisms, dispensing with recurrence and convolutions entirely.\n",
    "\"\"\"\n",
    "resp = react_chat.send_message(observation, generation_config=config, request_options=retry_policy)\n",
    "print(resp.text)"
   ]
  },
  {
   "cell_type": "markdown",
   "id": "fdc9c07b",
   "metadata": {
    "id": "bo0tzf4nX6dA",
    "papermill": {
     "duration": 0.011883,
     "end_time": "2024-11-20T22:03:07.506008",
     "exception": false,
     "start_time": "2024-11-20T22:03:07.494125",
     "status": "completed"
    },
    "tags": []
   },
   "source": [
    "This process repeats until the `<finish>` action is reached. You can continue running this yourself if you like, or try the [Wikipedia example](https://github.com/google-gemini/cookbook/blob/main/examples/Search_Wikipedia_using_ReAct.ipynb) to see a fully automated ReAct system at work."
   ]
  },
  {
   "cell_type": "markdown",
   "id": "acb5f750",
   "metadata": {
    "id": "jPiZ_eIIaVPt",
    "papermill": {
     "duration": 0.011779,
     "end_time": "2024-11-20T22:03:07.530256",
     "exception": false,
     "start_time": "2024-11-20T22:03:07.518477",
     "status": "completed"
    },
    "tags": []
   },
   "source": [
    "## Code prompting"
   ]
  },
  {
   "cell_type": "markdown",
   "id": "71b38d0d",
   "metadata": {
    "id": "ZinKamwXeR6C",
    "papermill": {
     "duration": 0.012076,
     "end_time": "2024-11-20T22:03:07.554431",
     "exception": false,
     "start_time": "2024-11-20T22:03:07.542355",
     "status": "completed"
    },
    "tags": []
   },
   "source": [
    "### Generating code\n",
    "\n",
    "The Gemini family of models can be used to generate code, configuration and scripts. Generating code can be helpful when learning to code, learning a new language or for rapidly generating a first draft.\n",
    "\n",
    "It's important to be aware that since LLMs can't reason, and can repeat training data, it's essential to read and test your code first, and comply with any relevant licenses.\n",
    "\n",
    "<table align=left>\n",
    "  <td>\n",
    "    <a target=\"_blank\" href=\"https://aistudio.google.com/prompts/1YX71JGtzDjXQkgdes8bP6i3oH5lCRKxv\"><img src=\"https://ai.google.dev/site-assets/images/marketing/home/icon-ais.png\" style=\"height: 24px\" height=24/> Open in AI Studio</a>\n",
    "  </td>\n",
    "</table>"
   ]
  },
  {
   "cell_type": "code",
   "execution_count": 26,
   "id": "9990486f",
   "metadata": {
    "execution": {
     "iopub.execute_input": "2024-11-20T22:03:07.580379Z",
     "iopub.status.busy": "2024-11-20T22:03:07.579965Z",
     "iopub.status.idle": "2024-11-20T22:03:08.151249Z",
     "shell.execute_reply": "2024-11-20T22:03:08.150215Z"
    },
    "id": "fOQP9pqmeUO1",
    "papermill": {
     "duration": 0.587094,
     "end_time": "2024-11-20T22:03:08.153581",
     "exception": false,
     "start_time": "2024-11-20T22:03:07.566487",
     "status": "completed"
    },
    "tags": []
   },
   "outputs": [
    {
     "data": {
      "text/markdown": [
       "```python\n",
       "def factorial(n):\n",
       "  if n == 0:\n",
       "    return 1\n",
       "  else:\n",
       "    return n * factorial(n-1)\n",
       "```\n"
      ],
      "text/plain": [
       "<IPython.core.display.Markdown object>"
      ]
     },
     "execution_count": 26,
     "metadata": {},
     "output_type": "execute_result"
    }
   ],
   "source": [
    "model = genai.GenerativeModel(\n",
    "    'gemini-1.5-flash-latest',\n",
    "    generation_config=genai.GenerationConfig(\n",
    "        temperature=1,\n",
    "        top_p=1,\n",
    "        max_output_tokens=1024,\n",
    "    ))\n",
    "\n",
    "# Gemini 1.5 models are very chatty, so it helps to specify they stick to the code.\n",
    "code_prompt = \"\"\"\n",
    "Write a Python function to calculate the factorial of a number. No explanation, provide only the code.\n",
    "\"\"\"\n",
    "\n",
    "response = model.generate_content(code_prompt, request_options=retry_policy)\n",
    "Markdown(response.text)"
   ]
  },
  {
   "cell_type": "markdown",
   "id": "6960eb09",
   "metadata": {
    "id": "wlBMWSFhgVRQ",
    "papermill": {
     "duration": 0.012552,
     "end_time": "2024-11-20T22:03:08.179325",
     "exception": false,
     "start_time": "2024-11-20T22:03:08.166773",
     "status": "completed"
    },
    "tags": []
   },
   "source": [
    "### Code execution\n",
    "\n",
    "The Gemini API can automatically run generated code too, and will return the output.\n",
    "\n",
    "<table align=left>\n",
    "  <td>\n",
    "    <a target=\"_blank\" href=\"https://aistudio.google.com/prompts/11veFr_VYEwBWcLkhNLr-maCG0G8sS_7Z\"><img src=\"https://ai.google.dev/site-assets/images/marketing/home/icon-ais.png\" style=\"height: 24px\" height=24/> Open in AI Studio</a>\n",
    "  </td>\n",
    "</table>"
   ]
  },
  {
   "cell_type": "code",
   "execution_count": 27,
   "id": "9c10bc21",
   "metadata": {
    "execution": {
     "iopub.execute_input": "2024-11-20T22:03:08.206074Z",
     "iopub.status.busy": "2024-11-20T22:03:08.205644Z",
     "iopub.status.idle": "2024-11-20T22:03:10.735688Z",
     "shell.execute_reply": "2024-11-20T22:03:10.734746Z"
    },
    "id": "jT3OfWYfhjRL",
    "papermill": {
     "duration": 2.545932,
     "end_time": "2024-11-20T22:03:10.737805",
     "exception": false,
     "start_time": "2024-11-20T22:03:08.191873",
     "status": "completed"
    },
    "tags": []
   },
   "outputs": [
    {
     "data": {
      "text/markdown": [
       "To calculate the sum of the first 14 odd prime numbers, I need to first identify those numbers.  The first few odd prime numbers are 3, 5, 7, 11, 13, and so on.  I will use Python to generate these primes and calculate their sum.\n",
       "\n",
       "\n",
       "``` python\n",
       "def is_prime(n):\n",
       "    \"\"\"Checks if a number is prime.\"\"\"\n",
       "    if n <= 1:\n",
       "        return False\n",
       "    if n <= 3:\n",
       "        return True\n",
       "    if n % 2 == 0 or n % 3 == 0:\n",
       "        return False\n",
       "    i = 5\n",
       "    while i * i <= n:\n",
       "        if n % i == 0 or n % (i + 2) == 0:\n",
       "            return False\n",
       "        i += 6\n",
       "    return True\n",
       "\n",
       "count = 0\n",
       "sum_primes = 0\n",
       "num = 3  #Start with the first odd prime\n",
       "\n",
       "while count < 14:\n",
       "    if is_prime(num):\n",
       "        sum_primes += num\n",
       "        count +=1\n",
       "    num +=2\n",
       "\n",
       "print(f\"The sum of the first 14 odd prime numbers is: {sum_primes}\")\n",
       "\n",
       "\n",
       "```\n",
       "```\n",
       "The sum of the first 14 odd prime numbers is: 326\n",
       "\n",
       "```\n",
       "Therefore, the sum of the first 14 odd prime numbers is 326.\n"
      ],
      "text/plain": [
       "<IPython.core.display.Markdown object>"
      ]
     },
     "execution_count": 27,
     "metadata": {},
     "output_type": "execute_result"
    }
   ],
   "source": [
    "model = genai.GenerativeModel(\n",
    "    'gemini-1.5-flash-latest',\n",
    "    tools='code_execution',)\n",
    "\n",
    "code_exec_prompt = \"\"\"\n",
    "Calculate the sum of the first 14 prime numbers. Only consider the odd primes, and make sure you count them all.\n",
    "\"\"\"\n",
    "\n",
    "response = model.generate_content(code_exec_prompt, request_options=retry_policy)\n",
    "Markdown(response.text)"
   ]
  },
  {
   "cell_type": "markdown",
   "id": "52f178a0",
   "metadata": {
    "id": "ZspT1GSkjG6d",
    "papermill": {
     "duration": 0.012384,
     "end_time": "2024-11-20T22:03:10.763143",
     "exception": false,
     "start_time": "2024-11-20T22:03:10.750759",
     "status": "completed"
    },
    "tags": []
   },
   "source": [
    "While this looks like a single-part response, you can inspect the response to see the each of the steps: initial text, code generation, execution results, and final text summary."
   ]
  },
  {
   "cell_type": "code",
   "execution_count": 28,
   "id": "82b7df17",
   "metadata": {
    "execution": {
     "iopub.execute_input": "2024-11-20T22:03:10.790626Z",
     "iopub.status.busy": "2024-11-20T22:03:10.790232Z",
     "iopub.status.idle": "2024-11-20T22:03:10.796480Z",
     "shell.execute_reply": "2024-11-20T22:03:10.795392Z"
    },
    "id": "j4gQVzcRjRX-",
    "papermill": {
     "duration": 0.022295,
     "end_time": "2024-11-20T22:03:10.798495",
     "exception": false,
     "start_time": "2024-11-20T22:03:10.776200",
     "status": "completed"
    },
    "tags": []
   },
   "outputs": [
    {
     "name": "stdout",
     "output_type": "stream",
     "text": [
      "text: \"To calculate the sum of the first 14 odd prime numbers, I need to first identify those numbers.  The first few odd prime numbers are 3, 5, 7, 11, 13, and so on.  I will use Python to generate these primes and calculate their sum.\\n\\n\"\n",
      "\n",
      "-----\n",
      "executable_code {\n",
      "  language: PYTHON\n",
      "  code: \"\\ndef is_prime(n):\\n    \\\"\\\"\\\"Checks if a number is prime.\\\"\\\"\\\"\\n    if n <= 1:\\n        return False\\n    if n <= 3:\\n        return True\\n    if n % 2 == 0 or n % 3 == 0:\\n        return False\\n    i = 5\\n    while i * i <= n:\\n        if n % i == 0 or n % (i + 2) == 0:\\n            return False\\n        i += 6\\n    return True\\n\\ncount = 0\\nsum_primes = 0\\nnum = 3  #Start with the first odd prime\\n\\nwhile count < 14:\\n    if is_prime(num):\\n        sum_primes += num\\n        count +=1\\n    num +=2\\n\\nprint(f\\\"The sum of the first 14 odd prime numbers is: {sum_primes}\\\")\\n\\n\"\n",
      "}\n",
      "\n",
      "-----\n",
      "code_execution_result {\n",
      "  outcome: OUTCOME_OK\n",
      "  output: \"The sum of the first 14 odd prime numbers is: 326\\n\"\n",
      "}\n",
      "\n",
      "-----\n",
      "text: \"Therefore, the sum of the first 14 odd prime numbers is 326.\\n\"\n",
      "\n",
      "-----\n"
     ]
    }
   ],
   "source": [
    "for part in response.candidates[0].content.parts:\n",
    "  print(part)\n",
    "  print(\"-----\")"
   ]
  },
  {
   "cell_type": "markdown",
   "id": "78af0c93",
   "metadata": {
    "id": "1gUX8QzCj4d5",
    "papermill": {
     "duration": 0.01254,
     "end_time": "2024-11-20T22:03:10.823772",
     "exception": false,
     "start_time": "2024-11-20T22:03:10.811232",
     "status": "completed"
    },
    "tags": []
   },
   "source": [
    "### Explaining code\n",
    "\n",
    "The Gemini family of models can explain code to you too.\n",
    "\n",
    "<table align=left>\n",
    "  <td>\n",
    "    <a target=\"_blank\" href=\"https://aistudio.google.com/prompts/1N7LGzWzCYieyOf_7bAG4plrmkpDNmUyb\"><img src=\"https://ai.google.dev/site-assets/images/marketing/home/icon-ais.png\" style=\"height: 24px\" height=24/> Open in AI Studio</a>\n",
    "  </td>\n",
    "</table>"
   ]
  },
  {
   "cell_type": "code",
   "execution_count": 29,
   "id": "fc535647",
   "metadata": {
    "execution": {
     "iopub.execute_input": "2024-11-20T22:03:10.852239Z",
     "iopub.status.busy": "2024-11-20T22:03:10.851858Z",
     "iopub.status.idle": "2024-11-20T22:03:13.660938Z",
     "shell.execute_reply": "2024-11-20T22:03:13.659799Z"
    },
    "id": "7_jPMMoxkIEb",
    "papermill": {
     "duration": 2.825788,
     "end_time": "2024-11-20T22:03:13.663057",
     "exception": false,
     "start_time": "2024-11-20T22:03:10.837269",
     "status": "completed"
    },
    "tags": []
   },
   "outputs": [
    {
     "data": {
      "text/markdown": [
       "This file is a Bash script that provides a highly customizable Git prompt for your terminal.  In essence, it enhances your command prompt to show information about your current Git repository, such as the branch, status (changes, conflicts, etc.), and optionally, remote tracking information.\n",
       "\n",
       "**What it does:**\n",
       "\n",
       "The script dynamically generates your terminal prompt, adding information based on your current Git repository's status. This means the prompt changes depending on whether you're in a Git repository, which branch you're on, whether you have uncommitted changes, etc.  It supports themes for colors and styling, allowing for visual customization.\n",
       "\n",
       "**Why you would use it:**\n",
       "\n",
       "* **Improved Git awareness:** You get a clear, concise summary of your Git repository's state directly in your prompt, without needing to constantly run `git status`. This improves workflow efficiency.\n",
       "* **Customization:** The script allows you to customize the appearance (colors, symbols) and the information displayed (e.g., showing only specific status details or hiding remote tracking info).  You can even create your own custom themes.\n",
       "* **Cross-shell compatibility:** It attempts to work with both Bash and Zsh shells.\n",
       "* **Remote status:** It can (optionally) automatically fetch the latest remote status, keeping your prompt information current.\n",
       "\n",
       "\n",
       "In short, this script is a tool to make working with Git more streamlined and visually appealing by integrating crucial Git information directly into your terminal prompt.  You'd use it by sourcing it into your shell's configuration file (like `.bashrc` or `.zshrc`).\n"
      ],
      "text/plain": [
       "<IPython.core.display.Markdown object>"
      ]
     },
     "execution_count": 29,
     "metadata": {},
     "output_type": "execute_result"
    }
   ],
   "source": [
    "file_contents = !curl https://raw.githubusercontent.com/magicmonty/bash-git-prompt/refs/heads/master/gitprompt.sh\n",
    "\n",
    "explain_prompt = f\"\"\"\n",
    "Please explain what this file does at a very high level. What is it, and why would I use it?\n",
    "\n",
    "```\n",
    "{file_contents}\n",
    "```\n",
    "\"\"\"\n",
    "\n",
    "model = genai.GenerativeModel('gemini-1.5-flash-latest')\n",
    "\n",
    "response = model.generate_content(explain_prompt, request_options=retry_policy)\n",
    "Markdown(response.text)"
   ]
  },
  {
   "cell_type": "markdown",
   "id": "9fe88bb8",
   "metadata": {
    "id": "2a8266d97ce5",
    "papermill": {
     "duration": 0.012537,
     "end_time": "2024-11-20T22:03:13.688152",
     "exception": false,
     "start_time": "2024-11-20T22:03:13.675615",
     "status": "completed"
    },
    "tags": []
   },
   "source": [
    "## Learn more\n",
    "\n",
    "To learn more about prompting in depth:\n",
    "\n",
    "* Check out the whitepaper issued with today's content,\n",
    "* Try out the apps listed at the top of this notebook ([TextFX](https://textfx.withgoogle.com/), [SQL Talk](https://sql-talk-r5gdynozbq-uc.a.run.app/) and [NotebookLM](https://notebooklm.google/)),\n",
    "* Read the [Introduction to Prompting](https://ai.google.dev/gemini-api/docs/prompting-intro) from the Gemini API docs,\n",
    "* Explore the Gemini API's [prompt gallery](https://ai.google.dev/gemini-api/prompts) and try them out in AI Studio,\n",
    "* Check out the Gemini API cookbook for [inspirational examples](https://github.com/google-gemini/cookbook/blob/main/examples/) and [educational quickstarts](https://github.com/google-gemini/cookbook/blob/main/quickstarts/).\n",
    "\n",
    "And please share anything exciting you have tried in the Discord!"
   ]
  }
 ],
 "metadata": {
  "colab": {
   "name": "day-1-prompting.ipynb",
   "toc_visible": true
  },
  "kaggle": {
   "accelerator": "none",
   "dataSources": [],
   "dockerImageVersionId": 30786,
   "isGpuEnabled": false,
   "isInternetEnabled": true,
   "language": "python",
   "sourceType": "notebook"
  },
  "kernelspec": {
   "display_name": "Python 3",
   "language": "python",
   "name": "python3"
  },
  "language_info": {
   "codemirror_mode": {
    "name": "ipython",
    "version": 3
   },
   "file_extension": ".py",
   "mimetype": "text/x-python",
   "name": "python",
   "nbconvert_exporter": "python",
   "pygments_lexer": "ipython3",
   "version": "3.10.14"
  },
  "papermill": {
   "default_parameters": {},
   "duration": 113.925027,
   "end_time": "2024-11-20T22:03:14.221993",
   "environment_variables": {},
   "exception": null,
   "input_path": "__notebook__.ipynb",
   "output_path": "__notebook__.ipynb",
   "parameters": {},
   "start_time": "2024-11-20T22:01:20.296966",
   "version": "2.6.0"
  }
 },
 "nbformat": 4,
 "nbformat_minor": 5
}
